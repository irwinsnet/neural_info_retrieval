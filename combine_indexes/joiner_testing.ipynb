{
 "cells": [
  {
   "cell_type": "code",
   "execution_count": 1,
   "source": [
    "import joiner"
   ],
   "outputs": [],
   "metadata": {}
  },
  {
   "cell_type": "code",
   "execution_count": 2,
   "source": [
    "doc_path ='/home/ubuntu/efs/combined_index_18Jul/docs_spl'\n",
    "qry_path ='/home/ubuntu/efs/combined_index_18Jul/queries_spl'\n",
    "\n",
    "jnr = joiner.IndexJoiner([doc_path, qry_path])"
   ],
   "outputs": [
    {
     "output_type": "stream",
     "name": "stdout",
     "text": [
      "Preparing to join document indexes.\n",
      "Files for index 0 stored in: /home/ubuntu/efs/combined_index_18Jul/docs_spl\n",
      "Files for index 1 stored in: /home/ubuntu/efs/combined_index_18Jul/queries_spl\n",
      "Start Time: 2021-07-22 18:29:33.610845 \n",
      "\n",
      "Processing mismatched documents, i.e., checking for\n",
      "    documents that exist in only one index.\n",
      "Reading mismatched documents data from  join_data.json\n",
      "Number of documents that exist only in index 0: 1354\n",
      "Number of documents that exist only in index 1: 1354\n",
      "\n",
      "Initializing File Indexes\n",
      "Reading index from  /home/ubuntu/efs/combined_index_18Jul/docs_spl/docs00.json.pickled-index\n",
      "Reading index from  /home/ubuntu/efs/combined_index_18Jul/docs_spl/docs01.json.pickled-index\n",
      "Reading index from  /home/ubuntu/efs/combined_index_18Jul/docs_spl/docs02.json.pickled-index\n",
      "Reading index from  /home/ubuntu/efs/combined_index_18Jul/docs_spl/docs03.json.pickled-index\n",
      "Reading index from  /home/ubuntu/efs/combined_index_18Jul/queries_spl/docs00.json.pickled-index\n",
      "Reading index from  /home/ubuntu/efs/combined_index_18Jul/queries_spl/docs01.json.pickled-index\n",
      "Reading index from  /home/ubuntu/efs/combined_index_18Jul/queries_spl/docs02.json.pickled-index\n",
      "Reading index from  /home/ubuntu/efs/combined_index_18Jul/queries_spl/docs03.json.pickled-index\n",
      "\n",
      "Join preparation is complete.\n",
      "Completion Time: 2021-07-22 18:29:33.734502\n",
      "The next step is specifying a index join type.\n",
      "The available join types are:\n",
      "  * join_docs_avg_weights_qry_discount\n",
      "  * join_docs_sum_weights\n",
      "Example:\n",
      "    idx_jnr = joiner.IndexJoiner([idx0_path, idx1_path])\n",
      "    idx_joinr.set_join_type('join_docs_avg_weights_qry_discount',\n",
      "                            {'qry_discount': 0.8})\n",
      "See join methods's docstring for required join_args.\n"
     ]
    }
   ],
   "metadata": {}
  },
  {
   "cell_type": "code",
   "execution_count": 3,
   "source": [
    "jnr.set_join_type('join_docs_avg_weights_qry_discount', {'qry_discount': 0.8})"
   ],
   "outputs": [
    {
     "output_type": "stream",
     "name": "stdout",
     "text": [
      "Setting join type to join_docs_avg_weights_qry_discount\n",
      "{'qry_discount': 0.8}\n",
      "The next step is running join_indexes(output_path) method.\n"
     ]
    }
   ],
   "metadata": {}
  },
  {
   "cell_type": "code",
   "execution_count": 4,
   "source": [
    "jnr.join_indexes('joined_idx')"
   ],
   "outputs": [
    {
     "output_type": "stream",
     "name": "stdout",
     "text": [
      "Joining Indexes using <bound method IndexJoiner.join_docs_avg_weights_qry_discount of <joiner.IndexJoiner object at 0x7f28fc59d220>>\n",
      "Join arguments: {'qry_discount': 0.8}\n",
      "Iterating through documents in Index 0.\n",
      "Start Time: 2021-07-22 18:29:34.393849\n"
     ]
    },
    {
     "output_type": "stream",
     "name": "stderr",
     "text": [
      "docs00.json: 100%|██████████| 20000/20000 [00:11<00:00, 1708.07it/s]\n",
      "docs01.json: 100%|██████████| 20000/20000 [00:11<00:00, 1812.94it/s]\n",
      "docs02.json: 100%|██████████| 20000/20000 [00:11<00:00, 1710.86it/s]\n",
      "docs03.json: 100%|██████████| 20000/20000 [00:11<00:00, 1790.68it/s]\n"
     ]
    },
    {
     "output_type": "stream",
     "name": "stdout",
     "text": [
      "Iterating through documents in index 1 that are not in index 0.\n"
     ]
    },
    {
     "output_type": "stream",
     "name": "stderr",
     "text": [
      "100%|██████████| 1354/1354 [00:00<00:00, 4047.82it/s]\n"
     ]
    }
   ],
   "metadata": {}
  },
  {
   "cell_type": "code",
   "execution_count": 5,
   "source": [
    "len(jnr.file_indexes[0][1])"
   ],
   "outputs": [
    {
     "output_type": "execute_result",
     "data": {
      "text/plain": [
       "20000"
      ]
     },
     "metadata": {},
     "execution_count": 5
    }
   ],
   "metadata": {}
  },
  {
   "cell_type": "code",
   "execution_count": null,
   "source": [],
   "outputs": [],
   "metadata": {}
  }
 ],
 "metadata": {
  "orig_nbformat": 4,
  "language_info": {
   "name": "python",
   "version": "3.8.10",
   "mimetype": "text/x-python",
   "codemirror_mode": {
    "name": "ipython",
    "version": 3
   },
   "pygments_lexer": "ipython3",
   "nbconvert_exporter": "python",
   "file_extension": ".py"
  },
  "kernelspec": {
   "name": "python3",
   "display_name": "Python 3.8.10 64-bit ('gp': conda)"
  },
  "interpreter": {
   "hash": "b6bb8eabb8f90f092b07d4deb7e9f7ddb05827294ff7061baab5d61a3a49b175"
  }
 },
 "nbformat": 4,
 "nbformat_minor": 2
}