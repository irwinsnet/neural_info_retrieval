{
 "cells": [
  {
   "cell_type": "code",
   "execution_count": 1,
   "id": "489a3cb7-e7b3-42ff-a497-aeaf4e123bc6",
   "metadata": {},
   "outputs": [],
   "source": [
    "import sys\n",
    "\n",
    "import torch\n",
    "import torch.utils.data\n",
    "import transformers\n",
    "\n",
    "sys.path.append('/home/ubuntu/TRESPI')\n",
    "import doc_dataset as ds"
   ]
  },
  {
   "cell_type": "code",
   "execution_count": 4,
   "id": "6c3e0f2c-8d83-4ca1-a472-0e6c0eddd916",
   "metadata": {},
   "outputs": [],
   "source": [
    "TEST_DOCS = '/home/ubuntu/TRESPI/tests/test-ms-docs.tsv'\n",
    "BATCH_SIZE = 4\n",
    "\n",
    "doc_dataset = ds.DocDataset(TEST_DOCS)\n",
    "\n",
    "# dset = iter(doc_dataset)\n",
    "# for record in dset:\n",
    "#     print(record)\n",
    "#     break\n",
    "    \n",
    "# doc_dataset.close()"
   ]
  },
  {
   "cell_type": "code",
   "execution_count": 5,
   "id": "5f39a3b5-3a38-4e0a-be87-f581907aad71",
   "metadata": {},
   "outputs": [
    {
     "name": "stdout",
     "output_type": "stream",
     "text": [
      "[('D1555982', 'D1555982', 'D301595', 'D301595'), tensor([0, 1, 0, 1]), tensor([[ 2854,     3,   184,  ...,     0,     0,     0],\n",
      "        [  696,  1309,   237,  ...,     0,     0,     0],\n",
      "        [   96, 29364,    18,  ...,     0,     0,     0],\n",
      "        [15921,    11,   119,  ...,     0,     0,     0]]), tensor([[1, 1, 1,  ..., 0, 0, 0],\n",
      "        [1, 1, 1,  ..., 0, 0, 0],\n",
      "        [1, 1, 1,  ..., 0, 0, 0],\n",
      "        [1, 1, 1,  ..., 0, 0, 0]])]\n"
     ]
    }
   ],
   "source": [
    "doc_loader = torch.utils.data.DataLoader(doc_dataset, batch_size=4)\n",
    "for batch in doc_loader:\n",
    "    print(batch)\n",
    "    break\n",
    "doc_dataset.close()"
   ]
  },
  {
   "cell_type": "code",
   "execution_count": 4,
   "id": "652fb3e2-c406-4df4-8697-4a8842ee1091",
   "metadata": {},
   "outputs": [
    {
     "data": {
      "text/plain": [
       "torch.Size([4, 512])"
      ]
     },
     "execution_count": 4,
     "metadata": {},
     "output_type": "execute_result"
    }
   ],
   "source": [
    "# batch[3].shape"
   ]
  },
  {
   "cell_type": "code",
   "execution_count": 3,
   "id": "f52943d9-2d32-4db1-a62c-af2793e589f0",
   "metadata": {},
   "outputs": [
    {
     "data": {
      "text/plain": [
       "device(type='cuda')"
      ]
     },
     "execution_count": 3,
     "metadata": {},
     "output_type": "execute_result"
    }
   ],
   "source": [
    "device = torch.device('cuda' if torch.cuda.is_available() else 'cpu')\n",
    "device"
   ]
  },
  {
   "cell_type": "code",
   "execution_count": 5,
   "id": "eb3eee42-413c-4fa1-a996-29c9c6cef432",
   "metadata": {},
   "outputs": [],
   "source": [
    "doc_dataset = ds.DocDataset(TEST_DOCS, min_len=32, tgt_len=64, max_len=128)\n",
    "doc_loader = torch.utils.data.DataLoader(doc_dataset, batch_size=4)"
   ]
  },
  {
   "cell_type": "code",
   "execution_count": 4,
   "id": "bdebc3e3-9209-45eb-be3e-59bf8d57aa7e",
   "metadata": {},
   "outputs": [],
   "source": [
    "model = transformers.T5ForConditionalGeneration.from_pretrained(\n",
    "    'castorini/doc2query-t5-base-msmarco')\n",
    "model.to(device)\n",
    "model.eval()\n",
    "pass"
   ]
  },
  {
   "cell_type": "code",
   "execution_count": 11,
   "id": "e9656ec5-f23f-4ae5-a8d4-8f7ca6b2076c",
   "metadata": {},
   "outputs": [],
   "source": [
    "\n",
    "for batch in doc_loader:\n",
    "    input_ids = batch[2].to(device)\n",
    "    mask = batch[3].to(device)\n",
    "    \n",
    "    outputs = model.generate(\n",
    "        input_ids = input_ids,\n",
    "        attention_mask = mask,\n",
    "        max_length=64,\n",
    "        do_sample=True,\n",
    "        top_k=10,\n",
    "        num_return_sequences=3)\n",
    "    break"
   ]
  },
  {
   "cell_type": "code",
   "execution_count": 7,
   "id": "2291c64b-d8db-4456-aa4b-927dd50ba2fa",
   "metadata": {},
   "outputs": [
    {
     "ename": "IndexError",
     "evalue": "index 5 is out of bounds for dimension 0 with size 3",
     "output_type": "error",
     "traceback": [
      "\u001b[0;31m---------------------------------------------------------------------------\u001b[0m",
      "\u001b[0;31mIndexError\u001b[0m                                Traceback (most recent call last)",
      "\u001b[0;32m<ipython-input-7-abdc7a537b2b>\u001b[0m in \u001b[0;36m<module>\u001b[0;34m\u001b[0m\n\u001b[1;32m      1\u001b[0m tokenizer = transformers.T5Tokenizer.from_pretrained(\n\u001b[1;32m      2\u001b[0m     'castorini/doc2query-t5-base-msmarco')\n\u001b[0;32m----> 3\u001b[0;31m \u001b[0mtokenizer\u001b[0m\u001b[0;34m.\u001b[0m\u001b[0mdecode\u001b[0m\u001b[0;34m(\u001b[0m\u001b[0moutputs\u001b[0m\u001b[0;34m[\u001b[0m\u001b[0;36m5\u001b[0m\u001b[0;34m]\u001b[0m\u001b[0;34m,\u001b[0m \u001b[0mskip_special_tokens\u001b[0m\u001b[0;34m=\u001b[0m\u001b[0;32mTrue\u001b[0m\u001b[0;34m)\u001b[0m\u001b[0;34m\u001b[0m\u001b[0;34m\u001b[0m\u001b[0m\n\u001b[0m",
      "\u001b[0;31mIndexError\u001b[0m: index 5 is out of bounds for dimension 0 with size 3"
     ]
    }
   ],
   "source": [
    "tokenizer = transformers.T5Tokenizer.from_pretrained(\n",
    "    'castorini/doc2query-t5-base-msmarco')\n",
    "tokenizer.decode(outputs[5], skip_special_tokens=True)"
   ]
  },
  {
   "cell_type": "code",
   "execution_count": 15,
   "id": "08490917-38bd-4e0d-ac2c-a2b6c42cbb26",
   "metadata": {},
   "outputs": [
    {
     "name": "stdout",
     "output_type": "stream",
     "text": [
      "what is the emissivity of rigel a star\n",
      "what is the distance of the elliptical surface of the star rigel\n",
      "what is the emissivity of a star\n",
      "what is the radius r\n",
      "what is the total energy flux at a spherical surface of Radius r\n",
      "what is q physics\n",
      "what is the l value for an l\n",
      "how much is 2 mm in l\n",
      "what measurement is l\n",
      "how do i find radius r?\n",
      "how to find radius\n",
      "how to find radius\n"
     ]
    }
   ],
   "source": [
    "for qry in outputs:\n",
    "    print(tokenizer.decode(qry, skip_special_tokens=True))"
   ]
  },
  {
   "cell_type": "code",
   "execution_count": 12,
   "id": "fa61840f-cf40-40b9-8cb3-fee95bb4153b",
   "metadata": {},
   "outputs": [
    {
     "data": {
      "text/plain": [
       "torch.Size([12, 22])"
      ]
     },
     "execution_count": 12,
     "metadata": {},
     "output_type": "execute_result"
    }
   ],
   "source": [
    "outputs.shape"
   ]
  },
  {
   "cell_type": "code",
   "execution_count": 10,
   "id": "f3a3a0be-2905-4b8e-ab55-af2c72292155",
   "metadata": {},
   "outputs": [
    {
     "data": {
      "text/plain": [
       "torch.Size([1, 128])"
      ]
     },
     "execution_count": 10,
     "metadata": {},
     "output_type": "execute_result"
    }
   ],
   "source": [
    "batch[2].shape"
   ]
  },
  {
   "cell_type": "code",
   "execution_count": null,
   "id": "adb1c05f-7a7f-417a-b1aa-9890618232cd",
   "metadata": {},
   "outputs": [],
   "source": []
  }
 ],
 "metadata": {
  "kernelspec": {
   "display_name": "Environment (conda_spita_torch)",
   "language": "python",
   "name": "conda_spita_torch"
  },
  "language_info": {
   "codemirror_mode": {
    "name": "ipython",
    "version": 3
   },
   "file_extension": ".py",
   "mimetype": "text/x-python",
   "name": "python",
   "nbconvert_exporter": "python",
   "pygments_lexer": "ipython3",
   "version": "3.7.10"
  }
 },
 "nbformat": 4,
 "nbformat_minor": 5
}
