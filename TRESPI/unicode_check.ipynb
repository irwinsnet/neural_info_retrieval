{
 "cells": [
  {
   "cell_type": "code",
   "execution_count": null,
   "source": [
    "import sys\n",
    "\n",
    "sys.path.insert(0, '/home/ubuntu/efs/stacy/neural_info_retrieval')\n",
    "import combine_indexes.joiner as joiner"
   ],
   "outputs": [],
   "metadata": {}
  },
  {
   "cell_type": "code",
   "execution_count": 2,
   "source": [
    "doc_path ='/home/ubuntu/efs/combined_index_18Jul/docs'\n",
    "qry_path ='/home/ubuntu/efs/combined_index_18Jul/queries'\n",
    "jnr = joiner.IndexJoiner([doc_path, qry_path])"
   ],
   "outputs": [],
   "metadata": {}
  },
  {
   "cell_type": "code",
   "execution_count": null,
   "source": [],
   "outputs": [],
   "metadata": {}
  }
 ],
 "metadata": {
  "orig_nbformat": 4,
  "language_info": {
   "name": "python",
   "version": "3.8.10",
   "mimetype": "text/x-python",
   "codemirror_mode": {
    "name": "ipython",
    "version": 3
   },
   "pygments_lexer": "ipython3",
   "nbconvert_exporter": "python",
   "file_extension": ".py"
  },
  "kernelspec": {
   "name": "python3",
   "display_name": "Python 3.8.10 64-bit ('gp': conda)"
  },
  "interpreter": {
   "hash": "b6bb8eabb8f90f092b07d4deb7e9f7ddb05827294ff7061baab5d61a3a49b175"
  }
 },
 "nbformat": 4,
 "nbformat_minor": 2
}