{
 "cells": [
  {
   "cell_type": "code",
   "execution_count": 1,
   "id": "af846a99-20cd-46e5-87ec-9a0317fb2339",
   "metadata": {},
   "outputs": [],
   "source": [
    "import sys\n",
    "\n",
    "sys.path.append('..')\n",
    "import util.msutils"
   ]
  },
  {
   "cell_type": "code",
   "execution_count": 4,
   "id": "8b440ef0-4897-4613-9666-23e685f11bdc",
   "metadata": {},
   "outputs": [
    {
     "name": "stdout",
     "output_type": "stream",
     "text": [
      "Reading index from  /home/ubuntu/efs/data/msmarco_docs/msmarco-docs.pickled-index\n"
     ]
    }
   ],
   "source": [
    "doc_path = '/home/ubuntu/efs/data/msmarco_docs/msmarco-docs.tsv'\n",
    "didx = util.msutils.DocIndex(doc_path)"
   ]
  },
  {
   "cell_type": "code",
   "execution_count": 5,
   "id": "afdff303-f0fc-4874-80f1-4bbe82e5040f",
   "metadata": {},
   "outputs": [
    {
     "data": {
      "text/plain": [
       "(428466, 78)"
      ]
     },
     "execution_count": 5,
     "metadata": {},
     "output_type": "execute_result"
    }
   ],
   "source": [
    "didx.docs['D2580791']"
   ]
  },
  {
   "cell_type": "code",
   "execution_count": 12,
   "id": "d16dc564-cda8-412c-952a-22d505211252",
   "metadata": {},
   "outputs": [
    {
     "data": {
      "text/plain": [
       "17.269372693726936"
      ]
     },
     "execution_count": 12,
     "metadata": {},
     "output_type": "execute_result"
    }
   ],
   "source": [
    "78 / (271 / 60)"
   ]
  },
  {
   "cell_type": "code",
   "execution_count": 14,
   "id": "be506da4-bbe9-4a24-8461-990286c9632f",
   "metadata": {},
   "outputs": [
    {
     "data": {
      "text/plain": [
       "16.834532374100718"
      ]
     },
     "execution_count": 14,
     "metadata": {},
     "output_type": "execute_result"
    }
   ],
   "source": [
    "78/(278/60)"
   ]
  },
  {
   "cell_type": "code",
   "execution_count": 17,
   "id": "68b5a733-3a9c-49e2-afe4-279abd385050",
   "metadata": {},
   "outputs": [],
   "source": [
    "def get_docs_per_min(elapsed_secs):\n",
    "    return 100/(elapsed_secs/60)"
   ]
  },
  {
   "cell_type": "code",
   "execution_count": 29,
   "id": "4d030501-7adc-46aa-9b01-850884cc8391",
   "metadata": {},
   "outputs": [
    {
     "data": {
      "text/plain": [
       "35.50295857988166"
      ]
     },
     "execution_count": 29,
     "metadata": {},
     "output_type": "execute_result"
    }
   ],
   "source": [
    "get_docs_per_min(169)"
   ]
  },
  {
   "cell_type": "code",
   "execution_count": 21,
   "id": "7d645c4c-e827-4110-9326-4ae549716a54",
   "metadata": {},
   "outputs": [],
   "source": [
    "def get_days(dpm):\n",
    "    return 3200000/dpm/60/24"
   ]
  },
  {
   "cell_type": "code",
   "execution_count": 28,
   "id": "e75c71ff-bdbf-46a0-845f-0c74d0c06d85",
   "metadata": {},
   "outputs": [
    {
     "data": {
      "text/plain": [
       "55.55555555555555"
      ]
     },
     "execution_count": 28,
     "metadata": {},
     "output_type": "execute_result"
    }
   ],
   "source": [
    "get_days(40)"
   ]
  },
  {
   "cell_type": "code",
   "execution_count": 25,
   "id": "ba3008c3-229b-4f28-9b75-6687c13a5ff6",
   "metadata": {},
   "outputs": [
    {
     "data": {
      "text/plain": [
       "44.0"
      ]
     },
     "execution_count": 25,
     "metadata": {},
     "output_type": "execute_result"
    }
   ],
   "source": [
    "22 / 0.5"
   ]
  },
  {
   "cell_type": "code",
   "execution_count": 26,
   "id": "f11aa03c-f557-4751-ba29-8ebf5e85edb5",
   "metadata": {},
   "outputs": [
    {
     "data": {
      "text/plain": [
       "72727.27272727272"
      ]
     },
     "execution_count": 26,
     "metadata": {},
     "output_type": "execute_result"
    }
   ],
   "source": [
    "3200000 / 44"
   ]
  }
 ],
 "metadata": {
  "kernelspec": {
   "display_name": "Python 3",
   "language": "python",
   "name": "python3"
  },
  "language_info": {
   "codemirror_mode": {
    "name": "ipython",
    "version": 3
   },
   "file_extension": ".py",
   "mimetype": "text/x-python",
   "name": "python",
   "nbconvert_exporter": "python",
   "pygments_lexer": "ipython3",
   "version": "3.7.10"
  }
 },
 "nbformat": 4,
 "nbformat_minor": 5
}
