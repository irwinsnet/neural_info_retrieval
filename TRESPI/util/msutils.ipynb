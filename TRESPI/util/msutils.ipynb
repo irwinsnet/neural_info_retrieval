{
 "cells": [
  {
   "cell_type": "markdown",
   "id": "29a60c1b-7b5c-491f-8fde-e5e1acb6b764",
   "metadata": {},
   "source": [
    "# Fast Document Retrieval with an Index\n",
    "This notebook explores using `f.readline()` and `f.tell()` to create an index into a long file, which will allow fast random access into any line of the file."
   ]
  },
  {
   "cell_type": "code",
   "execution_count": 1,
   "id": "732b9b4b-3053-47e8-8949-eee16cacd4ad",
   "metadata": {},
   "outputs": [],
   "source": [
    "import re\n",
    "\n",
    "import msutils"
   ]
  },
  {
   "cell_type": "code",
   "execution_count": 2,
   "id": "016caf82-c97e-4d85-9591-18dfe7df3789",
   "metadata": {},
   "outputs": [],
   "source": [
    "doc_path = '/home/ubuntu/efs/data/msmarco_docs/msmarco-docs.tsv'\n",
    "# doc_path = 'test-docs.tsv'"
   ]
  },
  {
   "cell_type": "code",
   "execution_count": 3,
   "id": "e082494c-d0cd-447e-b791-84f1628ecf88",
   "metadata": {},
   "outputs": [
    {
     "name": "stdout",
     "output_type": "stream",
     "text": [
      "Reading index from  /home/ubuntu/efs/data/msmarco_docs/msmarco-docs.pickled-index\n"
     ]
    }
   ],
   "source": [
    "didx = msutils.DocIndex()"
   ]
  },
  {
   "cell_type": "code",
   "execution_count": 12,
   "id": "5b104626-c9e8-458f-8cc7-15f59b7bc51f",
   "metadata": {},
   "outputs": [
    {
     "data": {
      "text/plain": [
       "(47221137, 6678)"
      ]
     },
     "execution_count": 12,
     "metadata": {},
     "output_type": "execute_result"
    }
   ],
   "source": [
    "didx.docs['D3130777']"
   ]
  },
  {
   "cell_type": "code",
   "execution_count": 7,
   "id": "eee4eb05-1fc6-4555-a0fa-829e32d24aae",
   "metadata": {},
   "outputs": [
    {
     "data": {
      "text/plain": [
       "(32537691, 'D807447')"
      ]
     },
     "execution_count": 7,
     "metadata": {},
     "output_type": "execute_result"
    }
   ],
   "source": [
    "didx.lines[4608]"
   ]
  },
  {
   "cell_type": "code",
   "execution_count": 14,
   "id": "cc9501bb-c99c-49b6-8018-bf48a5771657",
   "metadata": {},
   "outputs": [
    {
     "data": {
      "text/plain": [
       "4363.636363636364"
      ]
     },
     "execution_count": 14,
     "metadata": {},
     "output_type": "execute_result"
    }
   ],
   "source": [
    "9 * 3200000 / 6600"
   ]
  },
  {
   "cell_type": "code",
   "execution_count": 13,
   "id": "ff526ee9-747c-4642-b1a9-76192f93173f",
   "metadata": {},
   "outputs": [
    {
     "data": {
      "text/plain": [
       "4444.444444444444"
      ]
     },
     "execution_count": 13,
     "metadata": {},
     "output_type": "execute_result"
    }
   ],
   "source": [
    "3200000/12/60"
   ]
  },
  {
   "cell_type": "code",
   "execution_count": 7,
   "id": "63fdc956-2692-4c76-8291-a86e3bef58f1",
   "metadata": {},
   "outputs": [
    {
     "data": {
      "text/plain": [
       "\"D205553\\thttp://health-care-tips.org/diseases/pharyngitis.htm\\tPharyngitis - Causes, Symptoms and Treatments\\tPharyngitis - Causes, Symptoms and Treatments The most common throat disorder, pharyngitis is an acute or chronic inflammation of the pharynx. It is widespread among adults who live or work industy or very dry environments, use their voices excessively, habitually use tobacco or alcohol, or suffer from chronic sinusitis, persistent coughs, or allergies. Causes of Pharyngitis: Pharyngitis is usually caused by respiratory viruses such as rhinovirus, coronavirus, adenovirus, influenza, and parainfluenza viruses. The most common concern is infection due to group A betahemolytic streptococci, because of the associated, preventable risk of rheumatic fever. Other common causes include Mycoplasma and Chlamydia. A host of other bacteria, viruses, fungi, and spirochetes have also been identified as etiologic agents. Mycobacterium tuberculosis is a rare cause of pharyngitis. Signs and symptoms of Pharyngitis: Pharyngitis produces a sore throat and slight difficulty in swallowing. Swallowing saliva is usually more painful than swallowing food. Pharyngitis may also cause the sensation of a lump in the throat as well as a constant, aggravating urge to swallow. Associated features may include fever, headache, muscle and joint pain, coryza, and rhinorrhea. Inquire about drooling, any preferred neck position, and pain on extension of the neck. Uncomplicated pharyngitis usually subsides in 3 to 10 days. Diagnosis of Pharyngitis: Physical examination of the pharynx reveals generalized redness and inflammation of the posterior wall and red, edematous mucous membranes studded with white or yellow exudate. Exudate is usually confined to the lymphoid areas of the throat, sparing the tonsillar pillars. Bacterial pharyngitis usually produces a large amount of exudate. Assess for anterior vs. posterior cervical adenopathy, gingivitis or necrotic tonsillar ulcers. Associated physical findings, such as viral exanthem, conjunctivitis, petechiae, generalized lymphadenopathy, splenomegaly, or hepatic tenderness, may provide important clues to etiology. Treatment of Pharyngitis: There are several approaches to the management of pharyngitis. Deciding factors include the reliability of cultures and rapid tests for streptococci, the incidence of pharyngitis not due to group A beta-hemolytic streptococci, patient followup, medical compliance, and costs. In acute viral pharyngitis, treatment is usually symptomatic, and consists mainly of rest, warm saline gargles, throat lozenges containing a mild anesthetic, plenty of fluids, and analgesics as needed. If the patient can't swallow fluids, hospitalization may be required for I. V. hydration. Suspected bacterial pharyngitis requires rigorous treatment with penicillin or another broad-spectrum antibiotic because Streptococcus is the chief infecting microbe. Antibiotic therapy should continue for 48 hours until culture results are known. If the culture (or a rapid strep test) is positive for group A beta-hemolytic streptococci, or if bacterial infection is suspected despite negative culture results, penicillin therapy should be continued for 10 days. This is to prevent the sequelae of acute rheumatic fever. Erythromycin, amoxicillin, or penicillin are effective. Patients suspected of noncompliance may be given a long-acting parenteral penicillin such as benzathine penicillin. The macrolide antibiotics have also been reported to be successful in shorter-duration regimens. Azithromycin need only be taken for 3 days. Chronic pharyngitis requires the same supportive measures as acute pharyngitis but with greater emphasis on eliminating the underlying cause, such as an allergen. Preventive measures include adequate humidification and avoiding excessive exposure to air conditioning. In addition, the patient should be urged to stop smoking. Antibiotic choices for treatment failures are controversial. Alternatives to penicillin include cefuroxime and certain other cephalosporins, dicloxacillin, and amoxicillin with clavulanate. In cases of prior severe penicillin reaction, cephalosporins should probably be avoided. The cross reaction is believed to be higher than the overall 8% rate. Special considerations and Prevention tips of Pharyngitis:1. Administer analgesics and warm saline gargles as appropriate.2. Encourage the patient to drink plenty of fluids. Monitor intake and output scrupulously, and watch for signs of dehydration. Assess skin turgor, mucous membranes and, in young children, tearing.3. Provide meticulous mouth care to prevent dry lips and oral pyoderma, and maintain a restful environment.4. Elevate the patient's head with three or four pillows.5. Obtain throat cultures, and administer antibiotics as required if the patient has acute bacterial pharyngitis.6. Teach the patient with chronic pharyngitis how to minimize sources of throat irritation in the environment, such as using a bedside humidifier.7. Refer the patient to a self-help group to stop smoking, if appropriate.8. In severe cases, anesthetic gargles and lozenges (such as benzocaine) may provide additional symptomatic relief. Stress to patients the importance of completing the 10-day course of antibiotics regardless of symptom response. Patients are presumed to be noninfectious after 24 hours of antibiotic coverage. \\n\""
      ]
     },
     "execution_count": 7,
     "metadata": {},
     "output_type": "execute_result"
    }
   ],
   "source": [
    "didx['D205553']"
   ]
  },
  {
   "cell_type": "code",
   "execution_count": 8,
   "id": "e3226e69-6dd2-48fd-82fa-a1667c84b38d",
   "metadata": {},
   "outputs": [
    {
     "data": {
      "text/plain": [
       "'D2983072\\thttp://bodyodd.nbcnews.com/_news/2012/02/17/10438186-whats-the-lifespan-of-a-singers-voice\\t.\\t\\n'"
      ]
     },
     "execution_count": 8,
     "metadata": {},
     "output_type": "execute_result"
    }
   ],
   "source": [
    "didx[3000000]"
   ]
  },
  {
   "cell_type": "code",
   "execution_count": 10,
   "id": "5edfcad9-f1e5-4fc8-9943-aa13c9f74f6d",
   "metadata": {},
   "outputs": [
    {
     "data": {
      "text/plain": [
       "'D2172196\\thttp://www.baltimoresun.com/sports/orioles/bs-sp-orioles-spring-training-0309-20170308-story.html\\tOrioles\\' Manny Machado represents his blood, baseball family by playing for Dominican\\t\"The Orioles will see a familiar face on the field today as Manny Machado suits up for the Dominican Republic during the World Baseball Classic. (Jon Meoli/Baltimore Sun video)Eduardo A. Encina Contact Reporter The Baltimore Sun Why would the Miami-born Machado choose the Dominican over playing for the United States? Since making his decision last April to play for the Dominican Republic in this year\\'s World Baseball Classic, Orioles third baseman Manny Machado received the question frequently, as if he was taking a potshot at his patriotism by choosing his Dominican roots over his home nation. Why would the Miami-born Machado choose the Dominican over playing for the United States? Many Americans play for other teams in the World Baseball Classic, but most aren\\'t stars like Machado, who can pick his team — much like he is on pace to do two offseasons from now when the career-long Oriole reaches free agency. Machado, 24, has played for Team USA before, anchoring a junior national team that won gold in the Pan American Games in 2009. He said he\\'d like to represent the United States again in the future, but his heart called him to play for the Dominican this time. It begins on the ball fields of Hialeah, Fla. — just a 10-minute drive from Marlins Park in Miami, where Machado will play his first WBC game Thursday, proudly wearing \"\"Dominicana\"\" across his chest — where his Dominican-born grandfather taught him the nuances of the game. It continues to his mother, Rosa Nunez, who raised Machado as a single parent. And it progresses to a story of a fast path to major league stardom, as Machado was nurtured by Dominican-born players who became his extended in-season family even though he\\'s American. \"\"You know what, it\\'s just about family,\"\" Machado said last week after his final game in Orioles camp before joining his Dominican teammates. \"\"At the end of the day, all you have in life is family. To be there, to be at home and be representing something that\\'s meaningful, it\\'s going to be cool. \"\"When the Dominican Republic opens WBC pool play Thursday night against Canada, Machado — as he has before each professional baseball game he has played — will write the initials \"\"F. N.\"\" in the infield dirt to honor his grandfather, Francisco Nunez. \"\"It\\'s going to be a very special moment,\"\" Machado said. \"\"I know he\\'s waited a long time for that. I\\'m looking forward to that. I\\'m looking forward to finally putting that uniform on and knowing that he\\'s looking from above. \"\"Nunez, who passed away six months before the Orioles made Machado the third overall pick in the 2010 draft, instilled the foundation of the game in his grandson. Machado remembers his grandfather preaching the importance of bunting — something Machado doesn\\'t do much these days as he has averaged 36 homers the past two seasons. \"\"Just stay in the game always,\"\" Machado said about the lessons his grandfather taught. \"\"Never forget the little things. He taught me how to bunt. Always keep your eyes where they\\'re supposed to be. … You\\'ve got to bunt to be a great hitter because it gets your eyes in the right position every time. That\\'s something, when I drop down a bunt, I think about him. \"\"When Machado wears the Dominican uniform in this year\\'s WBC, he will do so to honor his entire family, including his mother, his uncle Gio Brito and others who put in hard work to propel him to this point. He shared a warm embrace with his father, Manuel, before Tuesday\\'s exhibition game against the Orioles at Ed Smith Stadium. Machado grew up in Miami, owner of one of the country\\'s largest Latino populations, although the majority of people are of Cuban descent. Dominicans make up just four percent of the population in the Miami-Hialeah demographic. Machado didn\\'t necessarily expect it, but baseball was one way to get closer to his Dominican heritage, especially once he reached the major leagues in 2012. On his first road trip as a major leaguer, Machado walked into the visiting clubhouse in Arlington, Texas — just 11 days into his big league career — and waiting for him was a plate of Dominican food from then- Texas Rangers outfielder Nelson Cruz. \"\"I was like, \\'What\\'s this? Who\\'s this from?\\' and it was from Nellie,\"\" Machado said. \"\"I knew him just a little bit. I hit with him once. I thought it was pretty cool that all the Latins take care of each other. We look out for the younger players. And now I\\'m in the same position as them, and to show I\\'m really one of them [is special]. \"\"Sending plates of Dominican food into visiting clubhouses is now commonly done by Dominican players, just one sign of kinship among them. Often, the traditional dish sent is called La Bandera Dominicana, which translates to the Dominican flag, and consists of rice, beans and chicken. \"\"Once you take that plane and you come over here, it doesn\\'t matter if you know someone or not,\"\" said Orioles right-hander Ubaldo Jimenez, who pitched for the Dominican in the 2009 WBC. \"\"Once you get here to the United States, you get treated like family because you\\'re from the same country. We\\'re all in the same position. We have a different language, a different culture, different food, everything. So you have to find a way to make yourself feel at home, so that\\'s how every Dominican, or Latin player is trying to do for other players. \"\"New Orioles catcher Welington Castillo said the practice shows how Dominican players value looking out for each other. \"\"I think that\\'s what our families back in the Dominican teach us,\"\" Castillo said. \"\"That\\'s how we grow up. … When I was with the Diamondbacks, I would just say to my mom and my wife to cook some food and bring it to the clubhouse for them. I would say it\\'s more like a tradition thing, helping each other because we go through cities and we don\\'t see very much [Dominican food]. … So it feels good when another teammate or from another team brings you food. \"\"Over the years, Machado has formed friendships with several Dominican players, and perhaps none closer than with Cruz, who played with Machado on the Orioles\\' division-winning team in 2014. And Machado still receives good-natured ribbing from Dominican-born players for being American-born. \"\"I\\'ve always seen myself as a Dominican. I grew up speaking both languages,\"\" Machado said. \"\"… [But] they crush me. … They always mess around with me, \\'Oh, you\\'re not Dominican. You\\'re American.\\' But now to be a part of it and be a part of the team and see how they are and how we are in general as a Latin culture and Dominican players. \"\"They\\'ve always taken me in and treated me well and treated me like a little brother, and treated me like one of them. So it\\'s been really cool, knowing that I was born here and I\\'m Americanized a little bit. But at the end of the day, I\\'ve always looked to my past and seen where my family has come from, and they admire that. \"\"Machado doesn\\'t hide the fact that the opportunity to play alongside his Dominican friends such as Cruz, Rangers third baseman Adrian Beltre and Seattle Mariners second baseman Robinson Cano played into his decision. He looked up to them all coming up, and as a major leaguer has observed their approaches, adding little things to his own routine. They\\'ve always been willing to help him on his path to becoming one of the game\\'s top players. \"\"We probably pushed him that way, to the Dominican,\"\" Cruz said with a laugh. \"\"But the important thing is he chose, and he\\'s got to represent baseball. That\\'s what\\'s important. … He loves the Dominican. That\\'s why he\\'s with us. He\\'s a great player, I mean one of the best in the league, and we\\'re definitely proud to have him on the team. \"\"After winning the last WBC four years ago, the Dominican enters this year\\'s tournament as one of the clear favorites. The team will first have to emerge from perhaps the most competitive pool in the tournament, playing the United States, Colombia and Canada in the first round. But the Dominican\\'s star power is unmistakable. The club boasts six players, including Machado, who hit at least 30 homers last season. The team also owns a combined 11 Gold Gloves, including two from Machado. \"\"You don\\'t usually have the opportunity to be in the same clubhouse full of people from the same country that are all stars,\"\" said Jimenez, who owns a WBC record for strikeouts in a game set in 2009 against the Netherlands. \"\"You don\\'t get that chance every day. It\\'s pretty neat, and you know what you\\'re playing for. You\\'re playing for the opportunity to represent your country and the people in your country. \"\"In the Dominican, baseball is everything. Baseball makes you forget about how poor the country is, any things that are going on over there. Baseball makes you forget about it. There\\'s a lot of passion for it and we take a lot of pride in representing our country. \"\"For Machado, there will be plenty of emotions Thursday and through the weekend as the Dominican completes pool play. He will be playing in his hometown with hundreds of family and friends in the crowd as part of what\\'s expected to contain a raucous international feel, much like the Caribbean Series. And he will do so under ideal circumstances — able to pay tribute to his biological family while playing alongside this baseball family. \"\"Until we\\'re there and see it all and take it in, that\\'s all you can do is wait,\"\" Machado said. \"\"… I\\'m just going to go out there and enjoy myself and just make the best out of it. I know I\\'m to be in front of a lot of family and a lot of friends, so it\\'s definitely makes it a little bit more comforting that it\\'s at home. ... I don\\'t know what\\'s going to happen or how I\\'m going to react to it, but you\\'re just trying to take it in as much as you can. \"\"eencina@baltsun.comtwitter.com/Eddie In The Yard Inside Lacrosse women\\'s poll and what\\'s next for state teams (March 26)College basketball: Notre Dame women get past Oregon 84-74 \"\\n'"
      ]
     },
     "execution_count": 10,
     "metadata": {},
     "output_type": "execute_result"
    }
   ],
   "source": [
    "didx['D2172196']"
   ]
  },
  {
   "cell_type": "code",
   "execution_count": 9,
   "id": "4949f1bd-9553-4457-8d70-9685be2c2990",
   "metadata": {},
   "outputs": [
    {
     "data": {
      "text/plain": [
       "'D2172197\\thttp://www.espn.com/mlb/story/_/id/9228234/manny-machado-true-disciple-oriole-way\\tCombining talent with intelligence\\t\"Combining talent with intelligence Apr 30, 2013Jerry Crasnick ESPN Senior Writer Facebook Twitter Facebook Messenger Pinterest Emailprintcomment Less than a year into his big league career, Manny Machado has discovered that the perks of playing in Baltimore go beyond crabcakes, the smell of pit barbecue and the thrill of hearing fans at Camden Yards chanting \"\"Manny!\"\" every time he clears the fence or makes an acrobatic play at third base. Baseball tradition runs deep in the city, and special nights at the park have a certain red-carpet-at-the-Oscars feel to them. Machado glimpsed the phenomenon recently during \"\"A Celebration of Earl Weaver\"\" night, when he emerged from the dugout runway and came upon Cal Ripken Jr., Eddie Murray and Brooks Robinson standing in a group. Machado was born in 1992 -- 17 years after Robinson won the last of his 16 career Gold Gloves -- but he\\'s sufficiently well-versed in baseball history to respect his elders. His pulse quickened when the Human Vacuum Cleaner called out to him, shook his hand and praised him for his stellar defensive play at third base. \"\"Brooks introduced himself and said, \\'Hey, man, you can pick it,\\'\"\" Machado said. \"\"He started joking around and said, \\'Hey, make at least one error this year.\\' It was pretty cool when he said that. It\\'s something you never forget. \"\"Machado is creating some warm memories for posterity on both sides of the ball in Baltimore. He ranks sixth among MLB third basemen with a .304 batting average, and he joined Robinson this week as the second player in Orioles history to collect four hits in a game at age 20. He\\'s riding a nine-game hitting streak entering Baltimore\\'s game against Seattle Wednesday night at Safeco Field. But it\\'s Machado\\'s defense that really has the baseball world buzzing. Combine a strong arm, great balance and a broad wingspan with a terrific work ethic, and the raw materials are in place for him to put a significant dent in Robinson\\'s Gold Glove total. Unless, of course, he spends most of his career at shortstop. It\\'s a question Machado and the team\\'s braintrust would rather save for a later date. The Orioles are fresh off a 93-win season and their first playoff appearance in 15 years, and they\\'re in the early American League East mix again with a 16-11 record. Personnel decisions have a way of resolving themselves over time, and the measured comments from manager Buck Showalter, general manager Dan Duquette and others make it clear they see little point in speculating on Machado\\'s future long before they\\'re forced to make a decision. \"\"I see him in the future playing good baseball for the Baltimore Orioles ,\"\" Showalter told The Baltimore Sun. \"\"Where he ends up being, we\\'ll see. He\\'s a good fit for us right now, and I\\'ve learned with people like Manny that you don\\'t put any limitations on him or any undue expectations. I just want him to be himself and do what he does. \"\"That\\'s fine with Machado, who still inhabits the \"\"gee whiz\"\" phase that comes with entering the clubhouse and seeing his name above a locker stall. Fellow phenoms Bryce Harper and Mike Trout have moved to left field without a fuss, and he is similarly content to trust Baltimore management in determining where he fits best. \"\"You know what? That\\'s something I can\\'t control,\"\" Machado said. \"\"That\\'s up to Dan and to Buck, who writes out the lineup every day. Wherever I play, I\\'m going to be satisfied and give 100 percent. If you do what you need to do at a position, everything is going to take care of itself. \"\"• • •The Orioles selected Machado with the No. 3 pick in the 2010 draft (behind only Harper and the Pittsburgh Pirates \\' Jameson Taillon) with the expectation that he would one day flourish as a big, rangy, power-hitting shortstop in the Ripken- Alex Rodriguez mold. In his first full minor league season, which was split between Delmarva in the South Atlantic League and Frederick in the Carolina League, Machado showed all the necessary skills to be an upper-echelon shortstop. At 6-foot-3, 185 pounds, he\\'s plenty agile. \"\"I saw him in Delmarva, and it might have been the five best days I\\'ve ever seen an \\'A\\' ballplayer have in my life,\"\" a National League scout said. \"\"He went in the hole and made the [Derek] Jeter jump play twice. He went up the middle, pirouetted and made a play. And there was a play where the second baseman gave him a half- [hearted] flip and I said, \\'There\\'s no way he\\'s going to turn it,\\' and he barehanded it and threw a rocket to first base. I think he\\'s going to be a superstar. \"\"The Orioles summoned Machado to play third base this past August in the middle of a pennant race, and the move had an instant domino effect. While Machado and veteran shortstop J. J. Hardy were stabilizing the left side, the overall team defense improved, and the Orioles went 33-17 down the stretch. They remain a cohesive group this season with an outfield of Nick Markakis, Adam Jones and Nate Mc Louth from right to left, Chris Davis settling in nicely as the full-time first baseman and Matt Wieters running the show from behind the plate. Jones, Wieters and Hardy won Gold Gloves last season, and Markakis previously snagged one in 2011. According to Baseball Prospectus, the Orioles rank first in the majors in team defensive efficiency rankings this season, and Machado is doing his fair share. He is tied for first among MLB third basemen with a plus-5 ranking in the Fielding Bible\\'s defensive runs saved listings. Machado made a splash with a display of Jeter-caliber field awareness against the Tampa Bay Rays in September, handling an Evan Longoria chopper, realizing he had no play at first base and whirling to catch pinch runner Rich Thompson scurrying back into third. Lest anyone think that was a once-in-a-blue-moon occurrence, Machado nearly pulled it off again on a Matt Kemp chopper in a recent Orioles-Dodgers game. \"\"He\\'s looking at the ball, but he\\'s able to see what\\'s going on behind him,\"\" said Bobby Dickerson, Baltimore\\'s third-base coach and infield instructor. \"\"All good infielders look for outs other than during the development of a play. We talk about it in the minor leagues: \\'Once you don\\'t have a play on this guy, look to a back base and you may have a guy there.\\' Manny is instinctive, and he hears things and he registers them and he sees the field. \"\"Machado\\'s coaches and mentors see subtle traits that add up to a rare feel for the game. Showalter talks about Machado\\'s \"\"clock,\"\" the internal mechanism that tells him just how hard he has to charge a ball or throw it to get the baserunner by a half-step. Dickerson cites Machado\\'s ability to stay low enough to \"\"see the bottom half of the ball.\"\" And, as former Orioles shortstop, current broadcaster and special assignment instructor Mike Bordick observes, Machado\\'s shift to third base was relatively seamless because of his advanced baseball instincts and solid foundation. It all begins with great feet. \"\"He has a real good pre-pitch setup,\"\" Bordick said. \"\"His feet come off the ground a little bit, and it energizes him so he has good first-step quickness. There are little, subtle moves you can make with your feet to create good angles and get good hops. It\\'s all about creating hops. If your feet don\\'t work, you\\'re not going to be able to do it. \"\"Hardy, by all accounts, has had a profound impact on Machado\\'s mental approach. They communicate constantly on the field, and Machado\\'s superior range allows Hardy to shade toward second base and turn a lot of ground balls up the middle into outs. Even though Machado has a flair for \"\"Web Gems,\"\" Hardy has driven home the mindset that routine, day-in, day-out plays are every bit as meaningful as the showstoppers. \"\"Manny sees the importance of taking care of the ball when he watches J. J. play,\"\" Dickerson said. \"\"Manny came here with a lot more flash, but you can see him slowly understanding the idea of, \\'This ball means a lot, and we\\'ve got to make sure that we take care of it.\\' J. J. mentors him. Manny asks good questions, and J. J. gives him honest answers. \"\"• • •Hardy will be 32 when his three-year, $22.5 million deal runs out at the end of the 2014 season, and the Orioles might head in any number of directions. They can re-sign Hardy as their shortstop, bring him back to play third base and shift Machado to short, or simply cut the cord and move in a different direction. The free-agent and trade landscapes 18 months from now also will be a factor in their decision. Or maybe the talent in the pipeline will determine the team\\'s long-term direction. Jonathan Schoop, ranked No. 50 on Keith Law\\'s list of baseball\\'s top 100 prospects, has a chance to wind up at second, third or short. And shortstop Adrian Marin, Baltimore\\'s third-round pick in the 2012 draft, is playing low Class A ball in Delmarva and could be part of the equation a few years down the road. Finally, it\\'s possible that another growth spurt will ensure Machado is best suited for the hot corner. \"\"He might be 6-4 or 6-5 and 230 pounds, and he can just be over there at third, launching balls,\"\" Jones said. Whatever route the Orioles take, it will be with a minimum of drama. From the moment Machado arrived this past summer, his teammates welcomed him into the clubhouse and threw a nurturing arm around his shoulder. \"\"There was no rookie hazing where he would be uncomfortable, and that helped him a lot,\"\" Bordick said. \"\"The guys here realized what he was all about, and they made him feel like part of the team right away, and they got to the postseason with him. You have to give kudos to the veterans here for making him feel at home. \"\"Machado helped ease the transition with his old-school sensibilities. He learned the value of hard work and a diligent approach from his mother, Rosa Nunez, and the benefits of keeping his mouth shut from his older sister and her circle of friends. In February, Machado confirmed that he is engaged to be married to Yainee Alonso, sister of San Diego Padres first baseman Yonder Alonso. His teammates enjoy having him around for more than his range factor. Mc Louth, who is fluent in Spanish, recently walked past Machado\\'s locker and jokingly described him as \"\"feo\"\" -- Spanish for \"\"ugly.\"\" For a kid who received a $5.25 million bonus in the draft, Machado is refreshingly blue-collar. As Jones recently observed, some of Machado\\'s best defensive plays come when he\\'s 0-for-4 or 0-for-5 at the plate. Rather than taking a bad day at the plate into the field with him, he uses it as motivation to contribute in other ways. \"\"He gets it,\"\" Jones said. \"\"If I\\'m talking, he shuts up. He understands the game and his role, and he understands that some people have been here longer. He\\'s never tried to step on anybody\\'s toes. He listens. He asks questions. He just minds his business and shows up every day ready to play. \"\"In the illustrious tradition of Brooks, Cal, Eddie and the others, Machado is content to let his game speak for itself no matter where his name is on the lineup card. He\\'s a true disciple of the Oriole Way. Sponsored Headlines Comments \"\\n'"
      ]
     },
     "execution_count": 9,
     "metadata": {},
     "output_type": "execute_result"
    }
   ],
   "source": [
    "didx[3000001]"
   ]
  },
  {
   "cell_type": "code",
   "execution_count": null,
   "id": "705a1825-54e0-4f4c-b26c-4beffe4fce34",
   "metadata": {},
   "outputs": [],
   "source": []
  }
 ],
 "metadata": {
  "kernelspec": {
   "display_name": "Environment (conda_spita_torch)",
   "language": "python",
   "name": "conda_spita_torch"
  },
  "language_info": {
   "codemirror_mode": {
    "name": "ipython",
    "version": 3
   },
   "file_extension": ".py",
   "mimetype": "text/x-python",
   "name": "python",
   "nbconvert_exporter": "python",
   "pygments_lexer": "ipython3",
   "version": "3.7.10"
  }
 },
 "nbformat": 4,
 "nbformat_minor": 5
}
