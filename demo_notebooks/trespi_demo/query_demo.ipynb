{
 "cells": [
  {
   "cell_type": "markdown",
   "id": "170d451a-d720-49f6-9fd1-a456aa3f3412",
   "metadata": {},
   "source": [
    "# TRESPI Search Demonstration"
   ]
  },
  {
   "cell_type": "markdown",
   "id": "04a221d6-35eb-4468-a294-6a0e8f9e937d",
   "metadata": {},
   "source": [
    "### System Setup"
   ]
  },
  {
   "cell_type": "code",
   "execution_count": 1,
   "id": "bd81ecef-0fa3-4eff-a22f-b2e61dfe5dbd",
   "metadata": {},
   "outputs": [
    {
     "name": "stdout",
     "output_type": "stream",
     "text": [
      "Reading index from  /home/ubuntu/efs/data/msmarco_docs/msmarco-docs.tsv.pickled-index\n"
     ]
    }
   ],
   "source": [
    "import trespi_demo as td\n",
    "\n",
    "index_path = '/home/ubuntu/efs/msmarco_leaderboard_attempt8/lucene_idx_07232021'\n",
    "msmarco_docs_path = '/home/ubuntu/efs/data/msmarco_docs/msmarco-docs.tsv'\n",
    "trespi = td.TrespiDemo(index_path, msmarco_docs_path, k1=5.5, b=1)"
   ]
  },
  {
   "cell_type": "markdown",
   "id": "1084157a-c906-44cc-b3e6-736bcfc951c2",
   "metadata": {},
   "source": [
    "# Query #1 -- Reaheating Lasagna\n",
    "### MSMARCO Query from training set"
   ]
  },
  {
   "cell_type": "markdown",
   "id": "f8b0b2a6-7bad-4a4d-baaf-395328d8268e",
   "metadata": {},
   "source": [
    "According to MSMARCO, the relevant document for this query is D2286511. Let's run the query and view the results."
   ]
  },
  {
   "cell_type": "code",
   "execution_count": 2,
   "id": "0bffe28f-fea6-4dbe-a7fe-ee1f2ab68608",
   "metadata": {},
   "outputs": [
    {
     "data": {
      "text/markdown": [
       "| Pos | Reciprocol Rank  | Doc.ID  | Index Rank | Title |\n",
       "| ----| ---------------- | ----- | ------ | ----- |\n",
       "| 1 | 1.000 | D1262534 | 17.50 | What temperature would you heat frozen lasagna in the oven a\n",
       "| 2 | 0.500 | D2340776 | 17.25 | how long should I reheat frozen lasagna?\n",
       "| 3 | 0.333 | D1998010 | 17.01 | Reheating unfrozen lasagna (whole)\n",
       "| 4 | 0.250 | D2286510 | 16.99 | Best Way to Reheat Lasagna\n",
       "| 5 | 0.200 | D1521839 | 16.30 | How Do You Reheat Pizza in the Oven?\n",
       "| 6 | 0.167 | **D2286511** | 16.25 | How long do you REHEAT LASAGNA for in the oven, when you mak\n",
       "| 7 | 0.143 | D985758 | 16.19 | What Is the Best Way to Reheat Lasagna?\n",
       "| 8 | 0.125 | D985755 | 15.89 | How Do I Reheat a Pan of Lasagna in the Oven?"
      ],
      "text/plain": [
       "<IPython.core.display.Markdown object>"
      ]
     },
     "metadata": {},
     "output_type": "display_data"
    }
   ],
   "source": [
    "qresults = trespi.run_query('what temperature should you reheat lasagna to')\n",
    "trespi.print_results(qresults, 'D2286511', 8)"
   ]
  },
  {
   "cell_type": "markdown",
   "id": "9074791c-1775-47fc-8fe2-37c013c26dc6",
   "metadata": {},
   "source": [
    "The top eight search results are displayed. The document deemed most relevant by MSMARCO shows up in position #6.\n",
    "\n",
    "Note the Reciprocol Rank column. It is the reciprocol of the document's position within the search results. The top document has reciprocol rank of 1, which is the maximum possible value. This query result is assigned a score of 0.167, which is the reciprocol rank of the MSMARCO relevant document."
   ]
  },
  {
   "cell_type": "markdown",
   "id": "ef8bb207-2a05-41f8-8d6f-7098b1a6412a",
   "metadata": {},
   "source": [
    "### Review Relevant Document"
   ]
  },
  {
   "cell_type": "code",
   "execution_count": 3,
   "id": "49e7b440-aec4-40b3-a50d-b2b038ca512d",
   "metadata": {},
   "outputs": [
    {
     "name": "stdout",
     "output_type": "stream",
     "text": [
      "Query:\t\t what temperature should you reheat lasagna to\n",
      "Document ID:\t D2286511\n",
      "Position:\t 6\n",
      "Title:\t\t How long do you REHEAT LASAGNA for in the oven, when you make them the day before?\n",
      "Contents:\n",
      "lps get a really crispy top) before cooking in the middle of an oven for 50-60 minutes gas mark 4/180C/350F or until golden and bubbling. Loads of red wine and garlic bread (it's the future).spuertos · 1 decade ago0 0 Comment Asker's rating Reheat baked pasta dishes such as lasagna in a 350 degree oven, covered. Depending on how thick the dish is, it could take from 30 to 45 minutes to heat completely. Mylan H · 1 decade ago2 0 Comment Because it has eggs, you have to be careful refrigerating it\n"
     ]
    }
   ],
   "source": [
    "trespi.print_qry_result(qresults, 6, text_slice=(900, 1400))"
   ]
  },
  {
   "cell_type": "markdown",
   "id": "b4a38660-624d-427e-9765-46747c78de2f",
   "metadata": {},
   "source": [
    "### What About the Top Document?\n",
    "The top ranked document is also relevant to the query."
   ]
  },
  {
   "cell_type": "code",
   "execution_count": 4,
   "id": "b2eb5ce5-df59-4edf-8f8d-280ce64a7ab0",
   "metadata": {},
   "outputs": [
    {
     "name": "stdout",
     "output_type": "stream",
     "text": [
      "Query:\t\t what temperature should you reheat lasagna to\n",
      "Document ID:\t D1262534\n",
      "Position:\t 1\n",
      "Title:\t\t What temperature would you heat frozen lasagna in the oven at?\n",
      "Contents:\n",
      " '11 at 0:40add a comment1 Answer active oldest votesup vote2down voteaccepted350F is the magic temp. Just about every casserole cooks at 350, and you cook it until it starts being bubbly which will probably between 30 minutes and an hour (in this case, you should check to make sure it's hot in the center as well, since you're starting from frozen). I'd cover it early, and then uncover it near the end so the top won't get dry.share improve this answeranswered May 31 '11 at 0:06Satanicpuppy12k 27\n"
     ]
    }
   ],
   "source": [
    "trespi.print_qry_result(qresults, 1, text_slice=(1000, 1500))"
   ]
  },
  {
   "cell_type": "markdown",
   "id": "4e59e1ea-87e0-4ccd-8948-072658ba55b5",
   "metadata": {},
   "source": [
    "# Query #2 -- Contextual Spoken Language Understanding\n",
    "### MSMARCO Query from training set"
   ]
  },
  {
   "cell_type": "code",
   "execution_count": 5,
   "id": "16e49ece-d9c2-4796-b9db-86d1d199a852",
   "metadata": {},
   "outputs": [
    {
     "data": {
      "text/markdown": [
       "| Pos | Reciprocol Rank  | Doc.ID  | Index Rank | Title |\n",
       "| ----| ---------------- | ----- | ------ | ----- |\n",
       "| 1 | 1.000 | D1015337 | 12.60 | Contextualized language and decontextualized language\n",
       "| 2 | 0.500 | D1219732 | 12.60 | Foreign Language Teaching Methods: Technology\n",
       "| 3 | 0.333 | D2809829 | 12.51 | How To Understand Spoken French For Fluency\n",
       "| 4 | 0.250 | D118379 | 12.31 | Contextualization\n",
       "| 5 | 0.200 | **D1350520** | 12.23 | Context (language use)\n",
       "| 6 | 0.167 | D1497397 | 12.05 | 7 Listening Skills for Understanding Spoken English\n",
       "| 7 | 0.143 | D2809827 | 11.55 | Understanding Spoken French: A Practical Approach\n",
       "| 8 | 0.125 | D665171 | 11.28 | Web Translation"
      ],
      "text/plain": [
       "<IPython.core.display.Markdown object>"
      ]
     },
     "metadata": {},
     "output_type": "display_data"
    }
   ],
   "source": [
    "qresults2 = trespi.run_query('contextual spoken language understanding')\n",
    "trespi.print_results(qresults2, 'D1350520', 8)"
   ]
  },
  {
   "cell_type": "markdown",
   "id": "d4f21082-97ba-419d-b22a-281849fd2ee6",
   "metadata": {},
   "source": [
    "MSMARCO Document is from Wikipedia"
   ]
  },
  {
   "cell_type": "code",
   "execution_count": 8,
   "id": "b92d8de5-30a0-449a-871f-957988dd00d6",
   "metadata": {},
   "outputs": [
    {
     "name": "stdout",
     "output_type": "stream",
     "text": [
      "Query:\t\t contextual spoken language understanding\n",
      "Document ID:\t D1350520\n",
      "Position:\t 5\n",
      "Title:\t\t Context (language use)\n",
      "Contents:\n",
      "\"In semiotics, linguistics, sociology and anthropology, context refers to those objects or entities which surround a focal event, in these disciplines typically a communicative event, of some kind. Context is \"\"a frame that surrounds the event and provides resources for its appropriate interpretation\"\". [1]: 2–3 It is thus a relativistic concept, only definable with respect to some focal event, not independently. Contents [ hide ]1 In linguistics2 In linguistic anthropology3 Contextual variables4 See also5 References In linguistics [ edit]Verbal context refers to the text or speech surrounding an expression (word, sentence, or speech act ). Verbal context influences the way an expression is understood; hence the norm of not citing people out of context. Since much contemporary linguistics takes texts, discourses, or conversations as the object of analysis, the modern study of verbal context takes place in terms of the analysis of discourse structures and their mutual relationships, for\n"
     ]
    }
   ],
   "source": [
    "trespi.print_qry_result(qresults2, 5, (0, 1000))"
   ]
  },
  {
   "cell_type": "markdown",
   "id": "4583150a-b605-4680-8bab-26d5800f778b",
   "metadata": {},
   "source": [
    "Top TRESPI document focuses more on child development."
   ]
  },
  {
   "cell_type": "code",
   "execution_count": 7,
   "id": "1e6f606e-14d7-4e39-9e0d-41bcd2351583",
   "metadata": {},
   "outputs": [
    {
     "name": "stdout",
     "output_type": "stream",
     "text": [
      "Query:\t\t contextual spoken language understanding\n",
      "Document ID:\t D1015337\n",
      "Position:\t 1\n",
      "Title:\t\t Contextualized language and decontextualized language\n",
      "Contents:\n",
      "Contextualized language and decontextualized language Contextualized language and decontextualized language. What influence do the two language forms have on a child with language difficulty's learning, and why is it important to know the difference? The conversations children are expected to take part in - classroom discourse - are much different from the conversations they may have at home. Conversations at home are generally with familiar people in cosy surroundings in an environment they know well. In essence, the language is contextualized. That is, a child learns language skills in a familiar place, doing well known activities. An example would be a young child helping mum do the dishes. The child learns about plates, cups, saucers and other kitchen items by being immersed in and talking with his/her parent about their environment. The child uses the context of the kitchen to more freely commit any new words - about kitchen items - to memory. In the school classroom, language is \n"
     ]
    }
   ],
   "source": [
    "trespi.print_qry_result(qresults2, 1, (0, 1000))"
   ]
  },
  {
   "cell_type": "markdown",
   "id": "3ff1c71b-91de-4b10-bd93-f80dcd36beec",
   "metadata": {},
   "source": [
    "# Mean Reciprocol Rank (MRR)\n",
    "**Mean Reciprocol Rank:** The average of the reciprocol ranks for a set of queries.\n",
    "\n",
    "**MRR@k:** Only the top *k* search results are reviewed. If the most relevant document does not appear in the top *k* search results, the reciprocol rank for that query is zero.\n",
    "* **MRR@100**: Used by MSMARCO Leaderboard\n",
    "* **MRR@10**: Common evaluation metric in research papers\n"
   ]
  }
 ],
 "metadata": {
  "kernelspec": {
   "display_name": "Python 3",
   "language": "python",
   "name": "python3"
  },
  "language_info": {
   "codemirror_mode": {
    "name": "ipython",
    "version": 3
   },
   "file_extension": ".py",
   "mimetype": "text/x-python",
   "name": "python",
   "nbconvert_exporter": "python",
   "pygments_lexer": "ipython3",
   "version": "3.8.10"
  }
 },
 "nbformat": 4,
 "nbformat_minor": 5
}
