{
 "cells": [
  {
   "cell_type": "markdown",
   "id": "170d451a-d720-49f6-9fd1-a456aa3f3412",
   "metadata": {},
   "source": [
    "# TRESPI Search Demonstration"
   ]
  },
  {
   "cell_type": "markdown",
   "id": "04a221d6-35eb-4468-a294-6a0e8f9e937d",
   "metadata": {},
   "source": [
    "### System Setup"
   ]
  },
  {
   "cell_type": "code",
   "execution_count": 1,
   "id": "bd81ecef-0fa3-4eff-a22f-b2e61dfe5dbd",
   "metadata": {},
   "outputs": [
    {
     "name": "stdout",
     "output_type": "stream",
     "text": [
      "Reading index from  /home/ubuntu/efs/data/msmarco_docs/msmarco-docs.tsv.pickled-index\n"
     ]
    }
   ],
   "source": [
    "import trespi_demo as td\n",
    "\n",
    "index_path = '/home/ubuntu/efs/msmarco_leaderboard_attempt8/lucene_idx_07232021'\n",
    "msmarco_docs_path = '/home/ubuntu/efs/data/msmarco_docs/msmarco-docs.tsv'\n",
    "trespi = td.TrespiDemo(index_path, msmarco_docs_path, k1=5.5, b=1)"
   ]
  },
  {
   "cell_type": "markdown",
   "id": "1084157a-c906-44cc-b3e6-736bcfc951c2",
   "metadata": {},
   "source": [
    "# Query #1 -- Reaheating Lasagna\n",
    "### MSMARCO Query from training set"
   ]
  },
  {
   "cell_type": "markdown",
   "id": "f8b0b2a6-7bad-4a4d-baaf-395328d8268e",
   "metadata": {},
   "source": [
    "According to MSMARCO, the relevant document for this query is D2286511. Let's run the query and view the results."
   ]
  },
  {
   "cell_type": "code",
   "execution_count": null,
   "id": "0bffe28f-fea6-4dbe-a7fe-ee1f2ab68608",
   "metadata": {},
   "outputs": [],
   "source": [
    "qresults = trespi.run_query('what temperature should you reheat lasagna to')\n",
    "trespi.print_results(qresults, 'D2286511', 8)"
   ]
  },
  {
   "cell_type": "markdown",
   "id": "9074791c-1775-47fc-8fe2-37c013c26dc6",
   "metadata": {},
   "source": [
    "The top eight search results are displayed. The document deemed most relevant by MSMARCO shows up in position #6.\n",
    "\n",
    "Note the Reciprocol Rank column. It is the reciprocol of the document's position within the search results. The top document has reciprocol rank of 1, which is the maximum possible value. This query result is assigned a score of 0.167, which is the reciprocol rank of the MSMARCO relevant document."
   ]
  },
  {
   "cell_type": "markdown",
   "id": "ef8bb207-2a05-41f8-8d6f-7098b1a6412a",
   "metadata": {},
   "source": [
    "### Review Relevant Document"
   ]
  },
  {
   "cell_type": "code",
   "execution_count": null,
   "id": "49e7b440-aec4-40b3-a50d-b2b038ca512d",
   "metadata": {},
   "outputs": [],
   "source": [
    "trespi.print_qry_result(qresults, 6, text_slice=(900, 1400))"
   ]
  },
  {
   "cell_type": "markdown",
   "id": "b4a38660-624d-427e-9765-46747c78de2f",
   "metadata": {},
   "source": [
    "### What About the Top Document?\n",
    "The top ranked document is also relevant to the query."
   ]
  },
  {
   "cell_type": "code",
   "execution_count": null,
   "id": "b2eb5ce5-df59-4edf-8f8d-280ce64a7ab0",
   "metadata": {},
   "outputs": [],
   "source": [
    "trespi.print_qry_result(qresults, 1, text_slice=(1000, 1500))"
   ]
  },
  {
   "cell_type": "markdown",
   "id": "4e59e1ea-87e0-4ccd-8948-072658ba55b5",
   "metadata": {},
   "source": [
    "# Query #2 -- Contextual Spoken Language Understanding\n",
    "### MSMARCO Query from training set"
   ]
  },
  {
   "cell_type": "code",
   "execution_count": null,
   "id": "16e49ece-d9c2-4796-b9db-86d1d199a852",
   "metadata": {},
   "outputs": [],
   "source": [
    "qresults2 = trespi.run_query('contextual spoken language understanding')\n",
    "trespi.print_results(qresults2, 'D1350520', 8)"
   ]
  },
  {
   "cell_type": "markdown",
   "id": "d4f21082-97ba-419d-b22a-281849fd2ee6",
   "metadata": {},
   "source": [
    "MSMARCO Document is from Wikipedia"
   ]
  },
  {
   "cell_type": "markdown",
   "id": "322d7e9b-3a9a-4a44-9bfc-949f22b7e8f6",
   "metadata": {},
   "source": [
    "# Mean Reciprocol Rank (MRR)\n",
    "**Mean Reciprocol Rank:** The average of the reciprocol ranks for a set of queries."
   ]
  },
  {
   "cell_type": "code",
   "execution_count": null,
   "id": "82ce98c9-8f85-493c-a861-5544f6dafebf",
   "metadata": {},
   "outputs": [],
   "source": [
    "print(f'Mean Reciprocol Rank for Demo:\\t{sum([1/6, 1/5])/2:.4f}')"
   ]
  },
  {
   "cell_type": "markdown",
   "id": "3ff1c71b-91de-4b10-bd93-f80dcd36beec",
   "metadata": {},
   "source": [
    "**MRR@k:** Only the top *k* search results are reviewed. If the most relevant document does not appear in the top *k* search results, the reciprocol rank for that query is zero.\n",
    "* **MRR@100**: Used by MSMARCO Leaderboard\n",
    "* **MRR@10**: Common evaluation metric in research papers\n"
   ]
  }
 ],
 "metadata": {
  "kernelspec": {
   "display_name": "Python 3",
   "language": "python",
   "name": "python3"
  },
  "language_info": {
   "codemirror_mode": {
    "name": "ipython",
    "version": 3
   },
   "file_extension": ".py",
   "mimetype": "text/x-python",
   "name": "python",
   "nbconvert_exporter": "python",
   "pygments_lexer": "ipython3",
   "version": "3.8.10"
  }
 },
 "nbformat": 4,
 "nbformat_minor": 5
}
