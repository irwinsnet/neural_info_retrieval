{
 "cells": [
  {
   "cell_type": "markdown",
   "source": [
    "# Anserini / Pyserini Installation\n",
    "Anserini is an indexing and searching tool that is written in Java and was created for research in information retrieval (IR). Pyserini is a Python wrapper around Anserini.\n",
    "* [Anserini](https://github.com/castorini/anserini)\n",
    "* [Pyserini](https://github.com/castorini/pyserini)"
   ],
   "metadata": {}
  },
  {
   "cell_type": "markdown",
   "source": [
    "## I. Installation\n",
    "### A. Anserini\n",
    "1. Install openjdk-11-jdk, ie., `sudo apt-get install openjdk-11-jdk`\n",
    "2. Install Maven version 3.*\n",
    "3. Set the JAVA_HOME environment variable to the folder that contains the JDK\n",
    "4. Install make\n",
    "5. Install gcc\n",
    "6. Clone the Anserini repo with the `--recurse-submodules` option.\n",
    "7. Change directory to the top-level folder inside the Anserini git repo (contains `pom.xml` which is maven build file).\n",
    "8. Run `mvn clean package appassembler:assemble` to build maven project.\n",
    "9. Run following to complete build\n",
    "\n",
    "```cd tools/eval && tar xvfz trec_eval.9.0.4.tar.gz && cd trec_eval.9.0.4 && make && cd ../../..\n",
    "cd tools/eval/ndeval && make && cd ../../..\n",
    "```\n",
    "\n",
    "### B. Pyserini\n",
    "1. Ensure VM has Python 3.6 or higher\n",
    "2. run `pip install pyserini==0.12.0`"
   ],
   "metadata": {}
  },
  {
   "cell_type": "markdown",
   "source": [
    "## II. Test Installation"
   ],
   "metadata": {}
  },
  {
   "cell_type": "code",
   "execution_count": 26,
   "source": [
    "# Import\n",
    "from pyserini.search import SimpleSearcher"
   ],
   "outputs": [],
   "metadata": {}
  },
  {
   "cell_type": "markdown",
   "source": [
    "Pyserini can download pre-built indices and search on common IR datasets. Running the following cell verifies the system is working."
   ],
   "metadata": {}
  },
  {
   "cell_type": "code",
   "execution_count": 3,
   "source": [
    "searcher = SimpleSearcher.from_prebuilt_index('msmarco-passage')\n",
    "hits = searcher.search('what is a lobster roll?')\n",
    "\n",
    "for i in range(0, 10):\n",
    "    print(f'{i+1:2} {hits[i].docid:7} {hits[i].score:.5f}')"
   ],
   "outputs": [
    {
     "output_type": "stream",
     "name": "stderr",
     "text": [
      "index-msmarco-passage-20201117-f87c94.tar.gz: 0.00B [00:00, ?B/s]"
     ]
    },
    {
     "output_type": "stream",
     "name": "stdout",
     "text": [
      "Attempting to initialize pre-built index msmarco-passage.\n",
      "Downloading index at https://git.uwaterloo.ca/jimmylin/anserini-indexes/raw/master/index-msmarco-passage-20201117-f87c94.tar.gz...\n"
     ]
    },
    {
     "output_type": "stream",
     "name": "stderr",
     "text": [
      "index-msmarco-passage-20201117-f87c94.tar.gz: 2.07GB [02:40, 13.8MB/s]                               \n"
     ]
    },
    {
     "output_type": "stream",
     "name": "stdout",
     "text": [
      "Extracting /home/ubuntu/.cache/pyserini/indexes/index-msmarco-passage-20201117-f87c94.tar.gz into /home/ubuntu/.cache/pyserini/indexes/index-msmarco-passage-20201117-f87c94.1efad4f1ae6a77e235042eff4be1612d...\n",
      "Initializing msmarco-passage...\n",
      " 1 7157707 11.00830\n",
      " 2 6034357 10.94310\n",
      " 3 5837606 10.81740\n",
      " 4 7157715 10.59820\n",
      " 5 6034350 10.48360\n",
      " 6 2900045 10.31190\n",
      " 7 7157713 10.12300\n",
      " 8 1584344 10.05290\n",
      " 9 533614  9.96350\n",
      "10 6234461 9.92200\n"
     ]
    }
   ],
   "metadata": {}
  },
  {
   "cell_type": "markdown",
   "source": [
    "## III. Build Our Own Index\n",
    "We'll build an index from the DeepCT collection of passages. Each passage is contained within a pseudo-JSON text file with one document per line:\n",
    "```\n",
    "{\"id\": \"1\", \"contents\": \"document 1 contents ...\"}\n",
    "{\"id\": \"2\", \"contents\": \"document 2 contents ...\"}\n",
    "...\n",
    "```\n",
    "\n",
    "This collection is stored at `data/deepCT/org_collection_berttoken` on the elastic file share, in two text files: `1.json` and `2.json`. We'll put the index in the `deepCT_idx` subfolder.\n",
    "\n",
    "The index is built from the command line with the following command. This step can take a while, so recommend running it in a shell outside of Jupyter.\n",
    "```\n",
    "python -m pyserini.index -collection JsonCollection \\\n",
    "                         -generator DefaultLuceneDocumentGenerator \\\n",
    "                         -threads 1 \\\n",
    "                         -input ~/efs/data/deepCT/org_collection_berttoken \\\n",
    "                         -index deepCT_idx \\\n",
    "                         -storePositions\n",
    "```\n",
    "* `-collection`: Specifies which Anserini Java class will be used to read the documents. The available classes are at https://github.com/castorini/anserini/tree/master/src/main/java/io/anserini/collection.\n",
    "* `-generator`: Specifies which Anserini Java class is used to prepare the documents for indexing. Available classes are at https://github.com/castorini/anserini/blob/master/src/main/java/io/anserini/index/generator/DefaultLuceneDocumentGenerator.java.\n",
    "* `-input`: Location of document collection\n",
    "* `-index`: Location at which to store index\n",
    "* `-storePositions`: Creates an index that contains only the document IDs and weights. Alternatively one can specify `-storeDocvectors` or `-storeRaw` to store document information in the index."
   ],
   "metadata": {}
  },
  {
   "cell_type": "markdown",
   "source": [
    "## IV. Search Example"
   ],
   "metadata": {}
  },
  {
   "cell_type": "code",
   "execution_count": 2,
   "source": [
    "searcher = SimpleSearcher('deepCT_idx')\n",
    "hits = searcher.search('soccer ball')\n",
    "\n",
    "for i in range(len(hits)):\n",
    "    print(f'{i+1:2} {hits[i].docid:4} {hits[i].score:.5f}')"
   ],
   "outputs": [
    {
     "output_type": "stream",
     "name": "stdout",
     "text": [
      " 1 827743 12.05080\n",
      " 2 5892041 11.58790\n",
      " 3 5892040 11.58320\n",
      " 4 7690688 11.40820\n",
      " 5 3496456 11.35480\n",
      " 6 1198032 10.93510\n",
      " 7 5240751 10.87360\n",
      " 8 1198033 10.81280\n",
      " 9 5240752 10.81060\n",
      "10 7690690 10.79250\n"
     ]
    }
   ],
   "metadata": {}
  },
  {
   "cell_type": "code",
   "execution_count": 54,
   "source": [
    "import re\n",
    "import os\n",
    "import os.path\n",
    "\n",
    "# Extremely **inefficient** document retrieval function!!!\n",
    "def get_doc(docid, collection=\"../efs/data/deepCT/org_collection_berttoken\"):\n",
    "    ptn = re.compile(r'{\"id\": \"' + str(docid) + '\"')\n",
    "    \n",
    "    for file in os.listdir(collection):\n",
    "        with open(os.path.join(collection, file), \"rt\") as cfile:\n",
    "            line = cfile.readline()\n",
    "            while line:\n",
    "                if re.match(ptn, line):\n",
    "                    print(line)\n",
    "                    break\n",
    "                line = cfile.readline()\n",
    "    \n",
    "get_doc(40)"
   ],
   "outputs": [
    {
     "output_type": "stream",
     "name": "stdout",
     "text": [
      "{\"id\": \"40\", \"contents\": \"medical tours costa rica : medical tourism made easy ! ano other firm has helped more patients . receive care over the last 15 yearsa\"}\n",
      "\n"
     ]
    }
   ],
   "metadata": {}
  },
  {
   "cell_type": "code",
   "execution_count": 53,
   "source": [
    "for docid in [hit.docid for hit in hits]:\n",
    "    get_doc(docid)"
   ],
   "outputs": [
    {
     "output_type": "stream",
     "name": "stdout",
     "text": [
      "{\"id\": \"827743\", \"contents\": \"this is soccer . comas guide to choosing the right soccer ball for your game . soccer . com carries training soccer balls , match soccer balls , professional match soccer balls , beach soccer balls , street soccer balls , indoor soccer balls , turf balls , futsal soccer balls , mini / skills soccer balls and medicine balls .\"}\n",
      "\n",
      "{\"id\": \"5892041\", \"contents\": \"soccer . com . you can play soccer without a jersey , you can play soccer without soccer shorts , and you can even play without cleats . but without the ball , there is no game . the ball is the only essential piece of equipment in the game of soccer . we have a wide selection of soccer balls including fifa approved premium match balls , training balls , futsal balls , mini balls and many more . he ball is the only essential piece of equipment in the game of soccer . we have a wide selection of soccer balls including fifa approved premium match balls , training balls , futsal balls , mini balls and many more .\"}\n",
      "\n",
      "{\"id\": \"5892040\", \"contents\": \"equipment soccer balls . you can play soccer without a jersey , you can play soccer without soccer shorts , and you can even play without cleats . but without the ball , there is no game . the ball is the only essential piece of equipment in the game of soccer . we have a wide selection of soccer balls including fifa approved premium match balls , training balls , futsal balls , mini balls and many more . he ball is the only essential piece of equipment in the game of soccer . we have a wide selection of soccer balls including fifa approved premium match balls , training balls , futsal balls , mini balls and many more .\"}\n",
      "\n",
      "{\"id\": \"7690688\", \"contents\": \"sizes . all soccer balls are rated by their size . a soccer ball ' s size is measured by circumference in inches or centimeters and rated on a scale from 1 to 5 . a size 5 soccer ball is the largest soccer ball produced and is used in all leagues above u12 , or recreational soccer for those aged 12 and older . soccer ball ' s size is measured by circumference in inches or centimeters and rated on a scale from 1 to 5 . a size 5 soccer ball is the largest soccer ball produced and is used in all leagues above u12 , or recreational soccer for those aged 12 and older .\"}\n",
      "\n",
      "{\"id\": \"3496456\", \"contents\": \"it took nearly 150 years since the first soccer rules were written and the first soccer ball made out of vulcanized rubber for soccer to be where it is today . in my opinion history of soccer ball starts in 1855 which is when the first soccer ball as we know it today was invented . soccer ball history also tells us that a decade later ( 1865 ) these soccer balls would be the official match balls during the first organized soccer leagues in england .\"}\n",
      "\n",
      "{\"id\": \"1198032\", \"contents\": \"does air pressure effect the distance a soccer ball travels : how does the air pressure of a soccer ball effect how far it travels when kicked ? will the pressure in a soccer ball affect the distance it travels when kicked ? . the more the pressure in the ball the better and more comfortable it will be to kick . a soccer ball with less air pressure makes it bulky when it is being kicked . the amount of air pressure in a soccer ball does affect how far it will travel wh .\"}\n",
      "\n",
      "{\"id\": \"5240751\", \"contents\": \"a . ancient football a the first foot ball in history . the first ever soccer ball in history was invented by ancient civilizations , 3000 years ago . the chinese , aztec and maya indians , and egyptians each had their own contributions to the first soccer ball in history . he year 1855 marked a significant event in the development of the soccer ball . it was in the year that the first round soccer ball was made , by a man named charles goodyear . prior to that , soccer balls were not totally round because they were made from animal bladders .\"}\n",
      "\n",
      "{\"id\": \"1198033\", \"contents\": \"does the temperature of a football ( or baseball soccer ball etc : does the temperature of a football ( or baseball , soccer ball , etc ) affect how far it will of different variables in a ball to alter the distance it will travel from an impact . for inflated balls , the temperature can change the air pressure inside the ball . the more the pressure in the ball the better and more comfortable it will be to kick . a soccer ball with less air pressure makes it bulky when it is being kicked . the amount of air pressure in a soccer ball does affect how far it will travel wh .\"}\n",
      "\n",
      "{\"id\": \"5240752\", \"contents\": \"advanced production technology and materials are being used , and the balls that we play with just keep on getting better and better . a . ancient football a the first foot ball in history the first ever soccer ball in history was invented by ancient civilizations , 3000 years ago . the chinese , aztec and maya indians , and egyptians each had their own contributions to the first soccer ball in history . he year 1855 marked a significant event in the development of the soccer ball . it was in the year that the first round soccer ball was made , by a man named charles goodyear . prior to that , soccer balls were not totally round because they were made\"}\n",
      "\n",
      "{\"id\": \"7690690\", \"contents\": \"the first step in purchasing a soccer ball is determining the proper size for your age group . many soccer leagues have different size requirements , so be sure to check with your coach to find out which is the proper size . soccer balls come in three different sizes which range from size 3 to size 5 . size 3 . ow to buy a soccer ball . you canat play soccer without a soccer ball . but buying the right ball is not that simple . you have to choose the right size for your age and the right material for your needs .\"}\n",
      "\n"
     ]
    }
   ],
   "metadata": {}
  }
 ],
 "metadata": {
  "kernelspec": {
   "display_name": "Python 3",
   "language": "python",
   "name": "python3"
  },
  "language_info": {
   "codemirror_mode": {
    "name": "ipython",
    "version": 3
   },
   "file_extension": ".py",
   "mimetype": "text/x-python",
   "name": "python",
   "nbconvert_exporter": "python",
   "pygments_lexer": "ipython3",
   "version": "3.8.5"
  }
 },
 "nbformat": 4,
 "nbformat_minor": 5
}