{
 "cells": [
  {
   "cell_type": "markdown",
   "metadata": {},
   "source": [
    "# Pyserini Index Searches\n",
    "This notebook provides examples of how to search a Lucene index using Pyserini. The paths in this notebook are specific to our virtual machines. Others who try to run this demo will need to modify the paths per their system configuration.\n",
    "\n",
    "Anserini and Pyserini must be installed to use this demo. See the main README file for guidance. Or refer to the [anserini](https://github.com/castorini/anserini) and [pyserini](https://github.com/castorini/anserini) Github repositories."
   ]
  },
  {
   "cell_type": "code",
   "execution_count": 1,
   "metadata": {},
   "outputs": [],
   "source": [
    "# Imports\n",
    "import collections\n",
    "import json\n",
    "import os\n",
    "import os.path\n",
    "import sys\n",
    "\n",
    "from pyserini.search import SimpleSearcher\n",
    "from pyserini.index import IndexReader\n",
    "\n",
    "dirname = os.getcwd()\n",
    "repo_root = os.path.abspath(os.path.join(dirname, '../..'))\n",
    "sys.path.insert(0, repo_root)\n",
    "import util.indexer"
   ]
  },
  {
   "cell_type": "markdown",
   "metadata": {},
   "source": [
    "## Access to MSMARCO Document Corpus\n",
    "### Initialize Access\n",
    "Run the following cell to set up access to the entire MSMARCO document corpus.\n",
    "Once this is done, any document can quickly be retrieved by it's MSMARCO document\n",
    "ID number."
   ]
  },
  {
   "cell_type": "code",
   "execution_count": 2,
   "metadata": {},
   "outputs": [
    {
     "name": "stdout",
     "output_type": "stream",
     "text": [
      "Reading index from  /home/ubuntu/efs/data/msmarco_docs/msmarco-docs.tsv.pickled-index\n"
     ]
    }
   ],
   "source": [
    "# Path to MSMARCO Documents dataset file. File is too big for Github Repo -- download from https://microsoft.github.io/msmarco/\n",
    "corpus = '/home/ubuntu/efs/data/msmarco_docs/msmarco-docs.tsv'\n",
    "docs = util.indexer.IndexedFile(corpus, 'id')"
   ]
  },
  {
   "cell_type": "markdown",
   "metadata": {},
   "source": [
    "## Test Document Access"
   ]
  },
  {
   "cell_type": "code",
   "execution_count": 3,
   "metadata": {},
   "outputs": [
    {
     "data": {
      "text/plain": [
       "'D1573673\\thttp://www.iroczone.com/about/iroc-z-history/\\tIntroduction\\tIntroduction Where do we begin? 1973 sounds like a good round figure … I suppose … how about October 27, 1973. Where? Riverside International Raceway, Riverside, CA of course! This is the date and location of the first, ever, IROC race. The International Race of Champions is a race comprised of top notch drivers from IRL, NASCAR Winston Cup, NASCAR Busch, World of Outlaws … all sorts of racing … to compete in identical cars and try their driving skills at winning the IROC Championship of the season. What did they drive? Oddly enough, for the 1974 season (IROC I), the car of choice was the Porsche Carerra RSR. Due to costs of running the Porsche, IROC went to the Chevrolet Camaro for the 1975 season (IROC II). IROC stuck with the Camaro until 1990, when the Camaro was replaced by the Dodge Daytona. Okay, so where does the Camaro IROC-Z tie into this? 1980 was the last season for IROC until it was “reborn” in 1984. For t'"
      ]
     },
     "execution_count": 3,
     "metadata": {},
     "output_type": "execute_result"
    }
   ],
   "source": [
    "# Test Access to MSMARCO documents\n",
    "docs['D1573673'][:1000]"
   ]
  },
  {
   "cell_type": "markdown",
   "metadata": {},
   "source": [
    "## Pyserini Queries\n",
    "### Intialize Searcher\n",
    "Pyserini's `SimpleSearcher()` object can be used to submit queries and retrieve documents from the index.\n",
    "\n",
    "Set the `path_to_idx` variable to point to the absolute path of the desired lucene index. The TRESPI team's lucene index can be downloaded from AWS S3: `s3://trespi.nir.ucb.2021/trespi_lucene_idx8.tar.gz`. Expand the tar file and then pass the path to the expanded folder to `SimpleSearcher()`."
   ]
  },
  {
   "cell_type": "code",
   "execution_count": 4,
   "metadata": {},
   "outputs": [],
   "source": [
    "path_to_idx = '/home/ubuntu/efs/msmarco_leaderboard_attempt1/lucene_idx_07172021'\n",
    "searcher = SimpleSearcher(path_to_idx)"
   ]
  },
  {
   "cell_type": "markdown",
   "metadata": {},
   "source": [
    "### Run a Search"
   ]
  },
  {
   "cell_type": "code",
   "execution_count": 5,
   "metadata": {},
   "outputs": [],
   "source": [
    "hits = searcher.search('Chevrolet camero commemoritive nascar race iroc 1984')"
   ]
  },
  {
   "cell_type": "markdown",
   "metadata": {},
   "source": [
    "### View Results\n",
    "**NOTE:** Our Lucene index is not built from the original document text, therefore Pyserini functions can only retrieve the document ID and are unable to retrieve the original document text. We will use the util.indexer.IndexedFile object that we created earlier to view the original document text, URL, and title."
   ]
  },
  {
   "cell_type": "code",
   "execution_count": 6,
   "metadata": {},
   "outputs": [
    {
     "name": "stdout",
     "output_type": "stream",
     "text": [
      "D1422896 33.47589874267578\n",
      "D1422896\thttp://www.iroc-z.com/birthofirocz/birthofirocz.htm\t.\tHow the Chevrolet Camaro Became an IR\n",
      "-----------------\n",
      "D1694606 31.94070053100586\n",
      "D1694606\thttp://www.chevyhardcore.com/tech-stories/engine/camaro-engines-through-the-years-third-gen\n",
      "-----------------\n",
      "D2468666 26.682100296020508\n",
      "D2468666\thttps://www.yahoo.com/news/BarrettJackson-Celebrates-iw-1259392312.html\tBarrett-Jackson Cel\n",
      "-----------------\n",
      "D1422894 24.212400436401367\n",
      "D1422894\thttp://www.superchevy.com/features/1407-the-history-of-iroc-racing-never-before-seen-photos\n",
      "-----------------\n",
      "D1422891 23.698999404907227\n",
      "D1422891\thttp://www.gm-efi.com/news/the-history-of-iroc-international-race-of-champions/\tThe History\n",
      "-----------------\n",
      "D1573672 21.480600357055664\n",
      "D1573672\thttps://en.wikipedia.org/wiki/Chevrolet_Camaro_(fifth_generation)\tChevrolet Camaro (fifth g\n",
      "-----------------\n",
      "D2547951 21.041099548339844\n",
      "D2547951\thttp://www.motortrend.com/cars/chevrolet/camaro/2017/\t2017Chevrolet Camaro\tBuyer’s Guide201\n",
      "-----------------\n",
      "D2779767 20.89859962463379\n",
      "D2779767\thttp://www.nastyz28.com/decode.php\t.\t\"Decoding Chevy VIN, Trim Tag and Drivetrain Codes Jum\n",
      "-----------------\n",
      "D1573673 20.87820053100586\n",
      "D1573673\thttp://www.iroczone.com/about/iroc-z-history/\tIntroduction\tIntroduction Where do we begin? \n",
      "-----------------\n",
      "D1074820 20.045700073242188\n",
      "D1074820\thttp://www.camarotech.com/engine-LS.html\tChevy LS series engines: LS1, LS2, LS6, LS7, LSX\t\"\n",
      "-----------------\n"
     ]
    }
   ],
   "source": [
    "for hit in hits:\n",
    "    print(hit.docid, hit.score)\n",
    "    print(docs[hit.docid][:100])\n",
    "    print('-----------------')"
   ]
  },
  {
   "cell_type": "markdown",
   "metadata": {},
   "source": [
    "### Initialize Index Reader\n",
    "The `SimpleSearcher` object is great for getting query results, but the `IndexReader()` object is needed to directly inspect the contents of the Lucene index."
   ]
  },
  {
   "cell_type": "code",
   "execution_count": 7,
   "metadata": {},
   "outputs": [],
   "source": [
    "index_reader = IndexReader(path_to_idx)"
   ]
  },
  {
   "cell_type": "markdown",
   "metadata": {},
   "source": [
    "### Get Index Data"
   ]
  },
  {
   "cell_type": "code",
   "execution_count": 8,
   "metadata": {},
   "outputs": [
    {
     "name": "stdout",
     "output_type": "stream",
     "text": [
      "(18, 691)\n",
      "(929, 25306)\n",
      "(13214, 151691)\n",
      "(35709, 696967)\n"
     ]
    }
   ],
   "source": [
    "# Displays number of docs that contain term, and number of occurrence of term in collection.\n",
    "for trm in ['iroc', 'camaro', 'race', 'speed']:\n",
    "    print(index_reader.get_term_counts(trm))"
   ]
  },
  {
   "cell_type": "code",
   "execution_count": 9,
   "metadata": {},
   "outputs": [
    {
     "data": {
      "text/plain": [
       "{'standard': 3,\n",
       " 'horsepow': 7,\n",
       " 'held': 1,\n",
       " 'year': 12,\n",
       " 'fuel': 1,\n",
       " 'hp': 1,\n",
       " 'hq': 1,\n",
       " 'l98': 2,\n",
       " 'iroc': 139,\n",
       " 'good': 2,\n",
       " 'when': 3,\n",
       " '350': 2,\n",
       " 'put': 1,\n",
       " 'factori': 2,\n",
       " 'jeep': 2,\n",
       " 'model': 1,\n",
       " 'us': 1,\n",
       " 'new': 2,\n",
       " 'invert': 2,\n",
       " 'made': 19,\n",
       " '1990': 1,\n",
       " 'come': 58,\n",
       " 'market': 1,\n",
       " 'most': 1,\n",
       " '1986': 6,\n",
       " 'brake': 2,\n",
       " 'introduc': 11,\n",
       " 'irock': 2,\n",
       " 'system': 3,\n",
       " 'driver': 3,\n",
       " 'light': 4,\n",
       " 'were': 3,\n",
       " 'plant': 1,\n",
       " 'name': 4,\n",
       " 'irac': 8,\n",
       " 'drive': 11,\n",
       " 'engin': 16,\n",
       " 'motor': 4,\n",
       " 'muscl': 9,\n",
       " 'vehicl': 1,\n",
       " 'origin': 4,\n",
       " 'roc': 7,\n",
       " 'imoc': 21,\n",
       " 'becom': 3,\n",
       " 'best': 3,\n",
       " 'speed': 3,\n",
       " 'out': 8,\n",
       " 'densiti': 3,\n",
       " 'releas': 2,\n",
       " 'car': 81,\n",
       " 'camaro': 17,\n",
       " 'get': 1,\n",
       " 'came': 4,\n",
       " 'irc': 11,\n",
       " 'power': 17,\n",
       " 'injector': 1,\n",
       " 'make': 5,\n",
       " 'win': 2,\n",
       " 'greatest': 1,\n",
       " 'icoc': 12,\n",
       " 'dodg': 2,\n",
       " 'race': 2,\n",
       " 'built': 9,\n",
       " 'gm': 3,\n",
       " 'perform': 1,\n",
       " 'start': 6,\n",
       " '1le': 1,\n",
       " 'tpi': 4,\n",
       " 'differ': 10,\n",
       " 'chevi': 1,\n",
       " 'speedomet': 1,\n",
       " 'what': 1,\n",
       " 'nascar': 2,\n",
       " 'chang': 15,\n",
       " 'z': 8,\n",
       " 'opel': 2,\n",
       " '86': 5,\n",
       " 'did': 90,\n",
       " 'first': 1}"
      ]
     },
     "execution_count": 9,
     "metadata": {},
     "output_type": "execute_result"
    }
   ],
   "source": [
    "# Displays index postings for a specific document.\n",
    "doc_vector = index_reader.get_document_vector(\"D1573673\")\n",
    "doc_vector"
   ]
  },
  {
   "cell_type": "code",
   "execution_count": 10,
   "metadata": {},
   "outputs": [
    {
     "data": {
      "text/plain": [
       "5.129743576049805"
      ]
     },
     "execution_count": 10,
     "metadata": {},
     "output_type": "execute_result"
    }
   ],
   "source": [
    "# Displays a document's score relative to a specific query.\n",
    "index_reader.compute_query_document_score('D1573673', 'porsche in nascar')"
   ]
  },
  {
   "cell_type": "code",
   "execution_count": 11,
   "metadata": {},
   "outputs": [],
   "source": [
    "hits = searcher.search('Chevrolet camero commemoritive nascar race iroc 1984')"
   ]
  },
  {
   "cell_type": "markdown",
   "metadata": {},
   "source": [
    "### View Results"
   ]
  },
  {
   "cell_type": "code",
   "execution_count": 12,
   "metadata": {},
   "outputs": [
    {
     "name": "stdout",
     "output_type": "stream",
     "text": [
      "D1422896 33.47589874267578\n",
      "D1422896\thttp://www.iroc-z.com/birthofirocz/birthofirocz.htm\t.\tHow the Chevrolet Camaro Became an IROC-ZFrom 1985 until very early in 1990 Chevrolet produced the IROC-Z Camaro. It began with its inception in 1985 as an option add-on to the Z28 model then becoming its own model in 1988, eliminating the Z28 model, to its eventual cease of production in early 1990 and Chevrolet reintroducing the Z28. The IROC-Z model of the Chevrolet Camaro first made its public appearance in 1985 as an add on opti\n",
      "-----------------\n",
      "D1694606 31.94070053100586\n",
      "D1694606\thttp://www.chevyhardcore.com/tech-stories/engine/camaro-engines-through-the-years-third-generation/\tCamaro Engines Through The Years â Third Generation\tThe third-generation Camaro has never gotten the respect from enthusiasts like the first two generations of the nameplate. Part of the reason the third-gens suffered so greatly, is because they were a complete redesign from the first two generations. Built without front subframes or leaf spring suspensions, the third-gen Camaros were sma\n",
      "-----------------\n",
      "D2468666 26.682100296020508\n",
      "D2468666\thttps://www.yahoo.com/news/BarrettJackson-Celebrates-iw-1259392312.html\tBarrett-Jackson Celebrates Four Decades of Charitable Work at 40th Annual Scottsdale Auction\t\"Barrett-Jackson Celebrates Four Decades of Charitable Work at 40th Annual Scottsdale Auction Marketwire • January 18, 2011SCOTTSDALE, AZ-- (Marketwire - 01/18/11) -18 national and local foundations to benefit from the sale of 19 charity vehicles and a GM engine NASCAR Championship Team Owner Rick Hendrick to sell two vehicl\n",
      "-----------------\n",
      "D1422894 24.212400436401367\n",
      "D1422894\thttp://www.superchevy.com/features/1407-the-history-of-iroc-racing-never-before-seen-photos/\tThe History of IROC Racing - Never Before Seen Photos\tThe History of IROC Racing - Never Before Seen Photos The IROC Series - Looking Back at the International Race of Champions Nick Licata Jul 30, 2014 Share View Full Gallery“Spanning the globe to bring you a constant variety of sports; the thrill of victory and the agony of defeat. The human drama of athletic competition … This is ABC’s Wide W\n",
      "-----------------\n",
      "D1422891 23.698999404907227\n",
      "D1422891\thttp://www.gm-efi.com/news/the-history-of-iroc-international-race-of-champions/\tThe History of IROC: International Race of Champions\tPrevious Next Previous Next Features News Special Features The History of IROC: International Race of Champions Andrew Nussbaum | 17 April, 2015 at 03:42If you were growing up in Queens, NY during the 1980s and early ’90s like I had, then you know that the term, “IROC” was ingrained in many a young car guy’s soul. The name took on dual meaning; the first a\n",
      "-----------------\n",
      "D1573672 21.480600357055664\n",
      "D1573672\thttps://en.wikipedia.org/wiki/Chevrolet_Camaro_(fifth_generation)\tChevrolet Camaro (fifth generation)\t\"From Wikipedia, the free encyclopedianavigation search This article is about the fifth-generation Chevrolet Camaro. For general Camaro information, see Chevrolet Camaro. Chevrolet Camaro (fifth generation)Overview Manufacturer Chevrolet ( General Motors)Production March 2009–November 2015Model years 2010–2015Assembly Oshawa, Ontario, Canada [1]Designer Sangyup Lee and Tom Peters (2005,\n",
      "-----------------\n",
      "D2547951 21.041099548339844\n",
      "D2547951\thttp://www.motortrend.com/cars/chevrolet/camaro/2017/\t2017Chevrolet Camaro\tBuyer’s Guide2017Chevrolet Camaro Facebook Twitter Google Plus2018 2017 2016 2015 2014See All 74 Photos Select a Different Model (12 available): 1LT Coupe Fair Market Price$ 27,0630-60 MPH5SECSEPA MPG20CITY / 30HWYHorsepower275@ 5600See All Specs2017 chevrolet camaro Model Overview You’ll Like Power and performance2016 Motor Trend Car of the Year Punches way above its price class You Won’t Like Almost non-existen\n",
      "-----------------\n",
      "D2779767 20.89859962463379\n",
      "D2779767\thttp://www.nastyz28.com/decode.php\t.\t\"Decoding Chevy VIN, Trim Tag and Drivetrain Codes Jump to: VIN | Trim Tag | Engine Decoding | Transmission Decoding | Rear Axle Decoding GM Body Types | GM RPO Descriptions | Build Sheets & other Paperwork Chevy Engine Suffix Codes | Small Block Parts Identification | Big Block Parts Identification Being able to decode the various markings on a car or part is important in establishing what type of car or part you have. This site is one of the most c\n",
      "-----------------\n",
      "D1573673 20.87820053100586\n",
      "D1573673\thttp://www.iroczone.com/about/iroc-z-history/\tIntroduction\tIntroduction Where do we begin? 1973 sounds like a good round figure … I suppose … how about October 27, 1973. Where? Riverside International Raceway, Riverside, CA of course! This is the date and location of the first, ever, IROC race. The International Race of Champions is a race comprised of top notch drivers from IRL, NASCAR Winston Cup, NASCAR Busch, World of Outlaws … all sorts of racing … to compete in identical cars and \n",
      "-----------------\n",
      "D1074820 20.045700073242188\n",
      "D1074820\thttp://www.camarotech.com/engine-LS.html\tChevy LS series engines: LS1, LS2, LS6, LS7, LSX\t\"Chevy LS series engines: LS1, LS2, LS6, LS7, LSXLate model Chevy small block engines for large displacement, low weight and high performance. The theme here is big displacement in a small-block made of aluminum, re-engineered with modern technology and race driven design. These are the ultimate high performance engine swaps for the older generations of Camaros. They reduce weight and add horsepowe\n",
      "-----------------\n"
     ]
    }
   ],
   "source": [
    "for hit in hits:\n",
    "    print(hit.docid, hit.score)\n",
    "    print(docs[hit.docid][:500])\n",
    "    print('-----------------')"
   ]
  },
  {
   "cell_type": "code",
   "execution_count": null,
   "metadata": {},
   "outputs": [],
   "source": []
  }
 ],
 "metadata": {
  "interpreter": {
   "hash": "b6bb8eabb8f90f092b07d4deb7e9f7ddb05827294ff7061baab5d61a3a49b175"
  },
  "kernelspec": {
   "display_name": "Python 3",
   "language": "python",
   "name": "python3"
  },
  "language_info": {
   "codemirror_mode": {
    "name": "ipython",
    "version": 3
   },
   "file_extension": ".py",
   "mimetype": "text/x-python",
   "name": "python",
   "nbconvert_exporter": "python",
   "pygments_lexer": "ipython3",
   "version": "3.8.10"
  }
 },
 "nbformat": 4,
 "nbformat_minor": 4
}
